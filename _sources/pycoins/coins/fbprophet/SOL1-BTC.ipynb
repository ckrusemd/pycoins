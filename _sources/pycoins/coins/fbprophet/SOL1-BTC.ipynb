{
 "cells": [
  {
   "cell_type": "markdown",
   "id": "0344ccbe",
   "metadata": {},
   "source": [
    "# (SOL1-BTC): Solana-Bitcoin"
   ]
  },
  {
   "cell_type": "code",
   "execution_count": null,
   "id": "e9907e7e",
   "metadata": {},
   "outputs": [],
   "source": [
    "    from functions import *\n",
    "    collect_tune_and_predict('SOL1-BTC',n_ahead = 365)"
   ]
  }
 ],
 "metadata": {},
 "nbformat": 4,
 "nbformat_minor": 5
}
