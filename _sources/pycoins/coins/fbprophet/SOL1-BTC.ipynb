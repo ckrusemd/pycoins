{
 "cells": [
  {
   "cell_type": "markdown",
   "id": "ab7d43f9",
   "metadata": {},
   "source": [
    "# (SOL1-BTC): Solana-Bitcoin"
   ]
  },
  {
   "cell_type": "code",
   "execution_count": null,
   "id": "477c8e98",
   "metadata": {},
   "outputs": [],
   "source": [
    "    from functions import *\n",
    "    collect_tune_and_predict('SOL1-BTC',n_ahead = 365)"
   ]
  }
 ],
 "metadata": {},
 "nbformat": 4,
 "nbformat_minor": 5
}
