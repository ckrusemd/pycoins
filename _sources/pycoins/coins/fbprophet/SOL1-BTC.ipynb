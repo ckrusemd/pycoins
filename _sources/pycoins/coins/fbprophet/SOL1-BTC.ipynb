{
 "cells": [
  {
   "cell_type": "markdown",
   "id": "410cd1fc",
   "metadata": {},
   "source": [
    "# (SOL1-BTC): Solana-Bitcoin"
   ]
  },
  {
   "cell_type": "code",
   "execution_count": null,
   "id": "fccbd6b5",
   "metadata": {},
   "outputs": [],
   "source": [
    "    from functions import *\n",
    "    collect_tune_and_predict('SOL1-BTC',n_ahead = 365)"
   ]
  }
 ],
 "metadata": {},
 "nbformat": 4,
 "nbformat_minor": 5
}
