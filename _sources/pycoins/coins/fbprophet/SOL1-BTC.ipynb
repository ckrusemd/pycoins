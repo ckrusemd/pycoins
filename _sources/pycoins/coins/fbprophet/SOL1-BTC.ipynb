{
 "cells": [
  {
   "cell_type": "markdown",
   "id": "e77f57ae",
   "metadata": {},
   "source": [
    "# (SOL1-BTC): Solana-Bitcoin"
   ]
  },
  {
   "cell_type": "code",
   "execution_count": null,
   "id": "93b78c2a",
   "metadata": {},
   "outputs": [],
   "source": [
    "    from functions import *\n",
    "    collect_tune_and_predict('SOL1-BTC',n_ahead = 365)"
   ]
  }
 ],
 "metadata": {},
 "nbformat": 4,
 "nbformat_minor": 5
}
