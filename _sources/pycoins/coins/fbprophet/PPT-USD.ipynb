{
 "cells": [
  {
   "cell_type": "markdown",
   "id": "935859c3",
   "metadata": {},
   "source": [
    "# (PPT-USD): Populous"
   ]
  },
  {
   "cell_type": "code",
   "execution_count": null,
   "id": "d22ab6ba",
   "metadata": {},
   "outputs": [],
   "source": [
    "    from functions import *\n",
    "    collect_tune_and_predict('PPT-USD',n_ahead = 365)"
   ]
  }
 ],
 "metadata": {},
 "nbformat": 4,
 "nbformat_minor": 5
}
