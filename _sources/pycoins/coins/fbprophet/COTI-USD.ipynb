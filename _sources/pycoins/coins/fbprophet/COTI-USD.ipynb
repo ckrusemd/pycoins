{
 "cells": [
  {
   "cell_type": "markdown",
   "id": "cd7a27a4",
   "metadata": {},
   "source": [
    "# (COTI-USD): COTI"
   ]
  },
  {
   "cell_type": "code",
   "execution_count": null,
   "id": "1cdb78cc",
   "metadata": {},
   "outputs": [],
   "source": [
    "    from functions import *\n",
    "    collect_tune_and_predict('COTI-USD',n_ahead = 365)"
   ]
  }
 ],
 "metadata": {},
 "nbformat": 4,
 "nbformat_minor": 5
}
