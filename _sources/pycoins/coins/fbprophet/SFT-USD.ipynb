{
 "cells": [
  {
   "cell_type": "markdown",
   "id": "a33aa044",
   "metadata": {},
   "source": [
    "# (SFT-USD): SafexToken"
   ]
  },
  {
   "cell_type": "code",
   "execution_count": null,
   "id": "321b1c69",
   "metadata": {},
   "outputs": [],
   "source": [
    "    from functions import *\n",
    "    collect_tune_and_predict('SFT-USD',n_ahead = 365)"
   ]
  }
 ],
 "metadata": {},
 "nbformat": 4,
 "nbformat_minor": 5
}
