{
 "cells": [
  {
   "cell_type": "markdown",
   "id": "2a20a668",
   "metadata": {},
   "source": [
    "# (HEX-USD): HEX"
   ]
  },
  {
   "cell_type": "code",
   "execution_count": null,
   "id": "ab3a9b4a",
   "metadata": {},
   "outputs": [],
   "source": [
    "    from functions import *\n",
    "    collect_tune_and_predict('HEX-USD',n_ahead = 365)"
   ]
  }
 ],
 "metadata": {},
 "nbformat": 4,
 "nbformat_minor": 5
}
