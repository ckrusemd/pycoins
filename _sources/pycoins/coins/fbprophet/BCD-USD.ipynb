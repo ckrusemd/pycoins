{
 "cells": [
  {
   "cell_type": "markdown",
   "id": "a4432da2",
   "metadata": {},
   "source": [
    "# (BCD-USD): BitcoinDiamond"
   ]
  },
  {
   "cell_type": "code",
   "execution_count": null,
   "id": "8d92b3b8",
   "metadata": {},
   "outputs": [],
   "source": [
    "    from functions import *\n",
    "    collect_tune_and_predict('BCD-USD',n_ahead = 365)"
   ]
  }
 ],
 "metadata": {},
 "nbformat": 4,
 "nbformat_minor": 5
}
