{
 "cells": [
  {
   "cell_type": "markdown",
   "id": "27080d75",
   "metadata": {},
   "source": [
    "# (BTC-USD): Bitcoin"
   ]
  },
  {
   "cell_type": "code",
   "execution_count": null,
   "id": "826eeb11",
   "metadata": {},
   "outputs": [],
   "source": [
    "    from functions import *\n",
    "    collect_tune_and_predict('BTC-USD',n_ahead = 365)"
   ]
  }
 ],
 "metadata": {},
 "nbformat": 4,
 "nbformat_minor": 5
}
