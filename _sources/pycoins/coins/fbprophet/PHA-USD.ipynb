{
 "cells": [
  {
   "cell_type": "markdown",
   "id": "a24a1c92",
   "metadata": {},
   "source": [
    "# (PHA-USD): PhalaNetwork"
   ]
  },
  {
   "cell_type": "code",
   "execution_count": null,
   "id": "2fc110e8",
   "metadata": {},
   "outputs": [],
   "source": [
    "    from functions import *\n",
    "    collect_tune_and_predict('PHA-USD',n_ahead = 365)"
   ]
  }
 ],
 "metadata": {},
 "nbformat": 4,
 "nbformat_minor": 5
}
