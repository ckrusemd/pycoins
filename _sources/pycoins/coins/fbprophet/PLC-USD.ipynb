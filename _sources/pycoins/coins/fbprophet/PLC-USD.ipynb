{
 "cells": [
  {
   "cell_type": "markdown",
   "id": "92a642f6",
   "metadata": {},
   "source": [
    "# (PLC-USD): PLATINCOIN"
   ]
  },
  {
   "cell_type": "code",
   "execution_count": null,
   "id": "f0dfe2cc",
   "metadata": {},
   "outputs": [],
   "source": [
    "    from functions import *\n",
    "    collect_tune_and_predict('PLC-USD',n_ahead = 365)"
   ]
  }
 ],
 "metadata": {},
 "nbformat": 4,
 "nbformat_minor": 5
}
