{
 "cells": [
  {
   "cell_type": "markdown",
   "id": "b13bd913",
   "metadata": {},
   "source": [
    "# (FSN-USD): Fusion"
   ]
  },
  {
   "cell_type": "code",
   "execution_count": null,
   "id": "08b4e5ac",
   "metadata": {},
   "outputs": [],
   "source": [
    "    from functions import *\n",
    "    collect_tune_and_predict('FSN-USD',n_ahead = 365)"
   ]
  }
 ],
 "metadata": {},
 "nbformat": 4,
 "nbformat_minor": 5
}
