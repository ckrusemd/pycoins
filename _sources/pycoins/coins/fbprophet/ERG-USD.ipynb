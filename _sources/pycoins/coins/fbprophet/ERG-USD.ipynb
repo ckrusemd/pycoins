{
 "cells": [
  {
   "cell_type": "markdown",
   "id": "e0c4af1f",
   "metadata": {},
   "source": [
    "# (ERG-USD): Ergo"
   ]
  },
  {
   "cell_type": "code",
   "execution_count": null,
   "id": "f0e77722",
   "metadata": {},
   "outputs": [],
   "source": [
    "    from functions import *\n",
    "    collect_tune_and_predict('ERG-USD',n_ahead = 365)"
   ]
  }
 ],
 "metadata": {},
 "nbformat": 4,
 "nbformat_minor": 5
}
