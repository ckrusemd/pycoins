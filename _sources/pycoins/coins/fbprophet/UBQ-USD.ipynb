{
 "cells": [
  {
   "cell_type": "markdown",
   "id": "7dedeb82",
   "metadata": {},
   "source": [
    "# (UBQ-USD): Ubiq"
   ]
  },
  {
   "cell_type": "code",
   "execution_count": null,
   "id": "7565d05d",
   "metadata": {},
   "outputs": [],
   "source": [
    "    from functions import *\n",
    "    collect_tune_and_predict('UBQ-USD',n_ahead = 365)"
   ]
  }
 ],
 "metadata": {},
 "nbformat": 4,
 "nbformat_minor": 5
}
