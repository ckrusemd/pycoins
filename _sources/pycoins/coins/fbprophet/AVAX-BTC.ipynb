{
 "cells": [
  {
   "cell_type": "markdown",
   "id": "d699df32",
   "metadata": {},
   "source": [
    "# (AVAX-BTC): Avalanche-Bitcoin"
   ]
  },
  {
   "cell_type": "code",
   "execution_count": null,
   "id": "bfdcd081",
   "metadata": {},
   "outputs": [],
   "source": [
    "    from functions import *\n",
    "    collect_tune_and_predict('AVAX-BTC',n_ahead = 365)"
   ]
  }
 ],
 "metadata": {},
 "nbformat": 4,
 "nbformat_minor": 5
}
