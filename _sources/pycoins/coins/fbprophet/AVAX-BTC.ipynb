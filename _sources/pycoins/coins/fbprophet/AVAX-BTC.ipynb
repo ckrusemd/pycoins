{
 "cells": [
  {
   "cell_type": "markdown",
   "id": "91a96218",
   "metadata": {},
   "source": [
    "# (AVAX-BTC): Avalanche-Bitcoin"
   ]
  },
  {
   "cell_type": "code",
   "execution_count": null,
   "id": "5cb9c6cb",
   "metadata": {},
   "outputs": [],
   "source": [
    "    from functions import *\n",
    "    collect_tune_and_predict('AVAX-BTC',n_ahead = 365)"
   ]
  }
 ],
 "metadata": {},
 "nbformat": 4,
 "nbformat_minor": 5
}
