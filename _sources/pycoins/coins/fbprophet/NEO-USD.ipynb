{
 "cells": [
  {
   "cell_type": "markdown",
   "id": "e9ae2dd6",
   "metadata": {},
   "source": [
    "# (NEO-USD): NEO"
   ]
  },
  {
   "cell_type": "code",
   "execution_count": null,
   "id": "6e32e1a5",
   "metadata": {},
   "outputs": [],
   "source": [
    "    from functions import *\n",
    "    collect_tune_and_predict('NEO-USD',n_ahead = 365)"
   ]
  }
 ],
 "metadata": {},
 "nbformat": 4,
 "nbformat_minor": 5
}
