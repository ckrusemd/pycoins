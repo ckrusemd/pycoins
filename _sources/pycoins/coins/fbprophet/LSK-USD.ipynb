{
 "cells": [
  {
   "cell_type": "markdown",
   "id": "5aed1f9a",
   "metadata": {},
   "source": [
    "# (LSK-USD): Lisk"
   ]
  },
  {
   "cell_type": "code",
   "execution_count": null,
   "id": "280b4d5c",
   "metadata": {},
   "outputs": [],
   "source": [
    "    from functions import *\n",
    "    collect_tune_and_predict('LSK-USD',n_ahead = 365)"
   ]
  }
 ],
 "metadata": {},
 "nbformat": 4,
 "nbformat_minor": 5
}
