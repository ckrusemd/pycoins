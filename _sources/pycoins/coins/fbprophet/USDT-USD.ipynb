{
 "cells": [
  {
   "cell_type": "markdown",
   "id": "88f537e8",
   "metadata": {},
   "source": [
    "# (USDT-USD): Tether"
   ]
  },
  {
   "cell_type": "code",
   "execution_count": null,
   "id": "0f5e2906",
   "metadata": {},
   "outputs": [],
   "source": [
    "    from functions import *\n",
    "    collect_tune_and_predict('USDT-USD',n_ahead = 365)"
   ]
  }
 ],
 "metadata": {},
 "nbformat": 4,
 "nbformat_minor": 5
}
