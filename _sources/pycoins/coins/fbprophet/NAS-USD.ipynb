{
 "cells": [
  {
   "cell_type": "markdown",
   "id": "86c48eb2",
   "metadata": {},
   "source": [
    "# (NAS-USD): Nebulas"
   ]
  },
  {
   "cell_type": "code",
   "execution_count": null,
   "id": "886412c3",
   "metadata": {},
   "outputs": [],
   "source": [
    "    from functions import *\n",
    "    collect_tune_and_predict('NAS-USD',n_ahead = 365)"
   ]
  }
 ],
 "metadata": {},
 "nbformat": 4,
 "nbformat_minor": 5
}
