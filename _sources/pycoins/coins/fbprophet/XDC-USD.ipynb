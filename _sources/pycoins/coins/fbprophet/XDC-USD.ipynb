{
 "cells": [
  {
   "cell_type": "markdown",
   "id": "c35838f8",
   "metadata": {},
   "source": [
    "# (XDC-USD): XinFinNetwork"
   ]
  },
  {
   "cell_type": "code",
   "execution_count": null,
   "id": "4a79051a",
   "metadata": {},
   "outputs": [],
   "source": [
    "    from functions import *\n",
    "    collect_tune_and_predict('XDC-USD',n_ahead = 365)"
   ]
  }
 ],
 "metadata": {},
 "nbformat": 4,
 "nbformat_minor": 5
}
