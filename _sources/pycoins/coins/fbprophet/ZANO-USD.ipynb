{
 "cells": [
  {
   "cell_type": "markdown",
   "id": "eb72feff",
   "metadata": {},
   "source": [
    "# (ZANO-USD): Zano"
   ]
  },
  {
   "cell_type": "code",
   "execution_count": null,
   "id": "b6343a27",
   "metadata": {},
   "outputs": [],
   "source": [
    "    from functions import *\n",
    "    collect_tune_and_predict('ZANO-USD',n_ahead = 365)"
   ]
  }
 ],
 "metadata": {},
 "nbformat": 4,
 "nbformat_minor": 5
}
