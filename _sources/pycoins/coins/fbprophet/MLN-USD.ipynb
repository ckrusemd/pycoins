{
 "cells": [
  {
   "cell_type": "markdown",
   "id": "6b76ffbb",
   "metadata": {},
   "source": [
    "# (MLN-USD): Melon"
   ]
  },
  {
   "cell_type": "code",
   "execution_count": null,
   "id": "a289fa29",
   "metadata": {},
   "outputs": [],
   "source": [
    "    from functions import *\n",
    "    collect_tune_and_predict('MLN-USD',n_ahead = 365)"
   ]
  }
 ],
 "metadata": {},
 "nbformat": 4,
 "nbformat_minor": 5
}
