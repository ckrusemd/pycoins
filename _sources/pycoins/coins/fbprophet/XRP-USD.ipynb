{
 "cells": [
  {
   "cell_type": "markdown",
   "id": "5b4236c8",
   "metadata": {},
   "source": [
    "# (XRP-USD): XRP"
   ]
  },
  {
   "cell_type": "code",
   "execution_count": null,
   "id": "e6bd1a3b",
   "metadata": {},
   "outputs": [],
   "source": [
    "    from functions import *\n",
    "    collect_tune_and_predict('XRP-USD',n_ahead = 365)"
   ]
  }
 ],
 "metadata": {},
 "nbformat": 4,
 "nbformat_minor": 5
}
