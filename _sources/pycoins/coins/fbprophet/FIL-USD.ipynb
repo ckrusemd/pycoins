{
 "cells": [
  {
   "cell_type": "markdown",
   "id": "89cb99a3",
   "metadata": {},
   "source": [
    "# (FIL-USD): FilecoinFutures"
   ]
  },
  {
   "cell_type": "code",
   "execution_count": null,
   "id": "7e2c75f9",
   "metadata": {},
   "outputs": [],
   "source": [
    "    from functions import *\n",
    "    collect_tune_and_predict('FIL-USD',n_ahead = 365)"
   ]
  }
 ],
 "metadata": {},
 "nbformat": 4,
 "nbformat_minor": 5
}
