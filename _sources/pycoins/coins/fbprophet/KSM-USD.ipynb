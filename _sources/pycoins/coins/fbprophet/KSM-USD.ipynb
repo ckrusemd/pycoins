{
 "cells": [
  {
   "cell_type": "markdown",
   "id": "2c4b6f28",
   "metadata": {},
   "source": [
    "# (KSM-USD): Kusama"
   ]
  },
  {
   "cell_type": "code",
   "execution_count": null,
   "id": "c00af22b",
   "metadata": {},
   "outputs": [],
   "source": [
    "    from functions import *\n",
    "    collect_tune_and_predict('KSM-USD',n_ahead = 365)"
   ]
  }
 ],
 "metadata": {},
 "nbformat": 4,
 "nbformat_minor": 5
}
