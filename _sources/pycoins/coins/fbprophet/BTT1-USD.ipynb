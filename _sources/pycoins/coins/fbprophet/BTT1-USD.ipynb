{
 "cells": [
  {
   "cell_type": "markdown",
   "id": "5b039a28",
   "metadata": {},
   "source": [
    "# (BTT1-USD): BitTorrent"
   ]
  },
  {
   "cell_type": "code",
   "execution_count": null,
   "id": "3fe547f8",
   "metadata": {},
   "outputs": [],
   "source": [
    "    from functions import *\n",
    "    collect_tune_and_predict('BTT1-USD',n_ahead = 365)"
   ]
  }
 ],
 "metadata": {},
 "nbformat": 4,
 "nbformat_minor": 5
}
