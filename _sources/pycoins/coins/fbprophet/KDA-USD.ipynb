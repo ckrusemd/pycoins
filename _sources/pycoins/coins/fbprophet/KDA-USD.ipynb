{
 "cells": [
  {
   "cell_type": "markdown",
   "id": "42963f8c",
   "metadata": {},
   "source": [
    "# (KDA-USD): Kadena"
   ]
  },
  {
   "cell_type": "code",
   "execution_count": null,
   "id": "71c0a1f9",
   "metadata": {},
   "outputs": [],
   "source": [
    "    from functions import *\n",
    "    collect_tune_and_predict('KDA-USD',n_ahead = 365)"
   ]
  }
 ],
 "metadata": {},
 "nbformat": 4,
 "nbformat_minor": 5
}
