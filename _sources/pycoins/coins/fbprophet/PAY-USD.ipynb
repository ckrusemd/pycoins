{
 "cells": [
  {
   "cell_type": "markdown",
   "id": "fe827f8f",
   "metadata": {},
   "source": [
    "# (PAY-USD): TenX"
   ]
  },
  {
   "cell_type": "code",
   "execution_count": null,
   "id": "b4c59f1a",
   "metadata": {},
   "outputs": [],
   "source": [
    "    from functions import *\n",
    "    collect_tune_and_predict('PAY-USD',n_ahead = 365)"
   ]
  }
 ],
 "metadata": {},
 "nbformat": 4,
 "nbformat_minor": 5
}
