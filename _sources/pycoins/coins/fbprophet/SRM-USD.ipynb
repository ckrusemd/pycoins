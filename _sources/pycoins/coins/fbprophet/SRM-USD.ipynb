{
 "cells": [
  {
   "cell_type": "markdown",
   "id": "74f282fc",
   "metadata": {},
   "source": [
    "# (SRM-USD): Serum"
   ]
  },
  {
   "cell_type": "code",
   "execution_count": null,
   "id": "5e31941f",
   "metadata": {},
   "outputs": [],
   "source": [
    "    from functions import *\n",
    "    collect_tune_and_predict('SRM-USD',n_ahead = 365)"
   ]
  }
 ],
 "metadata": {},
 "nbformat": 4,
 "nbformat_minor": 5
}
