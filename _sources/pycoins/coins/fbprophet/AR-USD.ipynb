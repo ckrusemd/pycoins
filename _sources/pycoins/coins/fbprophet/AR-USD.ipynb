{
 "cells": [
  {
   "cell_type": "markdown",
   "id": "9abec344",
   "metadata": {},
   "source": [
    "# (AR-USD): Arweave"
   ]
  },
  {
   "cell_type": "code",
   "execution_count": null,
   "id": "0c21c1a9",
   "metadata": {},
   "outputs": [],
   "source": [
    "    from functions import *\n",
    "    collect_tune_and_predict('AR-USD',n_ahead = 365)"
   ]
  }
 ],
 "metadata": {},
 "nbformat": 4,
 "nbformat_minor": 5
}
