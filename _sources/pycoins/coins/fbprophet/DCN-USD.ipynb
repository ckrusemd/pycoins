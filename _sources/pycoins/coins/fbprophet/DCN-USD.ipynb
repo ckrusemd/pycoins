{
 "cells": [
  {
   "cell_type": "markdown",
   "id": "cf83db55",
   "metadata": {},
   "source": [
    "# (DCN-USD): Dentacoin"
   ]
  },
  {
   "cell_type": "code",
   "execution_count": null,
   "id": "0b21962c",
   "metadata": {},
   "outputs": [],
   "source": [
    "    from functions import *\n",
    "    collect_tune_and_predict('DCN-USD',n_ahead = 365)"
   ]
  }
 ],
 "metadata": {},
 "nbformat": 4,
 "nbformat_minor": 5
}
