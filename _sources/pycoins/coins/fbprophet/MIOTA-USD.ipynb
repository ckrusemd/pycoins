{
 "cells": [
  {
   "cell_type": "markdown",
   "id": "ab98de11",
   "metadata": {},
   "source": [
    "# (MIOTA-USD): IOTA"
   ]
  },
  {
   "cell_type": "code",
   "execution_count": null,
   "id": "7ddac0f9",
   "metadata": {},
   "outputs": [],
   "source": [
    "    from functions import *\n",
    "    collect_tune_and_predict('MIOTA-USD',n_ahead = 365)"
   ]
  }
 ],
 "metadata": {},
 "nbformat": 4,
 "nbformat_minor": 5
}
