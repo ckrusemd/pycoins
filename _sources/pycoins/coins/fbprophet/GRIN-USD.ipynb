{
 "cells": [
  {
   "cell_type": "markdown",
   "id": "aefbd4ed",
   "metadata": {},
   "source": [
    "# (GRIN-USD): Grin"
   ]
  },
  {
   "cell_type": "code",
   "execution_count": null,
   "id": "ee3e6a8a",
   "metadata": {},
   "outputs": [],
   "source": [
    "    from functions import *\n",
    "    collect_tune_and_predict('GRIN-USD',n_ahead = 365)"
   ]
  }
 ],
 "metadata": {},
 "nbformat": 4,
 "nbformat_minor": 5
}
