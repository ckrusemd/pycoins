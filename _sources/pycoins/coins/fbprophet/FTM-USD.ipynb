{
 "cells": [
  {
   "cell_type": "markdown",
   "id": "c3c9f327",
   "metadata": {},
   "source": [
    "# (FTM-USD): Fantom"
   ]
  },
  {
   "cell_type": "code",
   "execution_count": null,
   "id": "1aa7870d",
   "metadata": {},
   "outputs": [],
   "source": [
    "    from functions import *\n",
    "    collect_tune_and_predict('FTM-USD',n_ahead = 365)"
   ]
  }
 ],
 "metadata": {},
 "nbformat": 4,
 "nbformat_minor": 5
}
