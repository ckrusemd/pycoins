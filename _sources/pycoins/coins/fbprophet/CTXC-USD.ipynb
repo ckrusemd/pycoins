{
 "cells": [
  {
   "cell_type": "markdown",
   "id": "ad8b6348",
   "metadata": {},
   "source": [
    "# (CTXC-USD): Cortex"
   ]
  },
  {
   "cell_type": "code",
   "execution_count": null,
   "id": "e39e80c9",
   "metadata": {},
   "outputs": [],
   "source": [
    "    from functions import *\n",
    "    collect_tune_and_predict('CTXC-USD',n_ahead = 365)"
   ]
  }
 ],
 "metadata": {},
 "nbformat": 4,
 "nbformat_minor": 5
}
