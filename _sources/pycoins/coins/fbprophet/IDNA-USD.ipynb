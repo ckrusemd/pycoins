{
 "cells": [
  {
   "cell_type": "markdown",
   "id": "d1cc8919",
   "metadata": {},
   "source": [
    "# (IDNA-USD): Idena"
   ]
  },
  {
   "cell_type": "code",
   "execution_count": null,
   "id": "bcd367c2",
   "metadata": {},
   "outputs": [],
   "source": [
    "    from functions import *\n",
    "    collect_tune_and_predict('IDNA-USD',n_ahead = 365)"
   ]
  }
 ],
 "metadata": {},
 "nbformat": 4,
 "nbformat_minor": 5
}
