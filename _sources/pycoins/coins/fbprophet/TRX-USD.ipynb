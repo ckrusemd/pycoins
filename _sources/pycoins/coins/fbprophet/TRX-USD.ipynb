{
 "cells": [
  {
   "cell_type": "markdown",
   "id": "abb743ca",
   "metadata": {},
   "source": [
    "# (TRX-USD): TRON"
   ]
  },
  {
   "cell_type": "code",
   "execution_count": null,
   "id": "afa53868",
   "metadata": {},
   "outputs": [],
   "source": [
    "    from functions import *\n",
    "    collect_tune_and_predict('TRX-USD',n_ahead = 365)"
   ]
  }
 ],
 "metadata": {},
 "nbformat": 4,
 "nbformat_minor": 5
}
