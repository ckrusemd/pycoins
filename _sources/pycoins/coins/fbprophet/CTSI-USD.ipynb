{
 "cells": [
  {
   "cell_type": "markdown",
   "id": "df717233",
   "metadata": {},
   "source": [
    "# (CTSI-USD): Cartesi"
   ]
  },
  {
   "cell_type": "code",
   "execution_count": null,
   "id": "43e4189f",
   "metadata": {},
   "outputs": [],
   "source": [
    "    from functions import *\n",
    "    collect_tune_and_predict('CTSI-USD',n_ahead = 365)"
   ]
  }
 ],
 "metadata": {},
 "nbformat": 4,
 "nbformat_minor": 5
}
