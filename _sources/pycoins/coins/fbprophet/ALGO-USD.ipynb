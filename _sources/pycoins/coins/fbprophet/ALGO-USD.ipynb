{
 "cells": [
  {
   "cell_type": "markdown",
   "id": "595e3143",
   "metadata": {},
   "source": [
    "# (ALGO-USD): Algorand"
   ]
  },
  {
   "cell_type": "code",
   "execution_count": null,
   "id": "3302c63e",
   "metadata": {},
   "outputs": [],
   "source": [
    "    from functions import *\n",
    "    collect_tune_and_predict('ALGO-USD',n_ahead = 365)"
   ]
  }
 ],
 "metadata": {},
 "nbformat": 4,
 "nbformat_minor": 5
}
