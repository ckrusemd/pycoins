{
 "cells": [
  {
   "cell_type": "markdown",
   "id": "ba037e7a",
   "metadata": {},
   "source": [
    "# (MAID-USD): MaidSafeCoin"
   ]
  },
  {
   "cell_type": "code",
   "execution_count": null,
   "id": "725b4679",
   "metadata": {},
   "outputs": [],
   "source": [
    "    from functions import *\n",
    "    collect_tune_and_predict('MAID-USD',n_ahead = 365)"
   ]
  }
 ],
 "metadata": {},
 "nbformat": 4,
 "nbformat_minor": 5
}
