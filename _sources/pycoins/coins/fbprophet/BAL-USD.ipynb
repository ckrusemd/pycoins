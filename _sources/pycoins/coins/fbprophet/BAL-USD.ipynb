{
 "cells": [
  {
   "cell_type": "markdown",
   "id": "9220d8f6",
   "metadata": {},
   "source": [
    "# (BAL-USD): Balancer"
   ]
  },
  {
   "cell_type": "code",
   "execution_count": null,
   "id": "bf806b8d",
   "metadata": {},
   "outputs": [],
   "source": [
    "    from functions import *\n",
    "    collect_tune_and_predict('BAL-USD',n_ahead = 365)"
   ]
  }
 ],
 "metadata": {},
 "nbformat": 4,
 "nbformat_minor": 5
}
