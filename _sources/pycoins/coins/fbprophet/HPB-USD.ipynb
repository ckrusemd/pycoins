{
 "cells": [
  {
   "cell_type": "markdown",
   "id": "581c4065",
   "metadata": {},
   "source": [
    "# (HPB-USD): HighPerformanceBlockchain"
   ]
  },
  {
   "cell_type": "code",
   "execution_count": null,
   "id": "f8fcce5a",
   "metadata": {},
   "outputs": [],
   "source": [
    "    from functions import *\n",
    "    collect_tune_and_predict('HPB-USD',n_ahead = 365)"
   ]
  }
 ],
 "metadata": {},
 "nbformat": 4,
 "nbformat_minor": 5
}
