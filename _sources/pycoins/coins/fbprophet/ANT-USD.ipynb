{
 "cells": [
  {
   "cell_type": "markdown",
   "id": "6c82236e",
   "metadata": {},
   "source": [
    "# (ANT-USD): Aragon"
   ]
  },
  {
   "cell_type": "code",
   "execution_count": null,
   "id": "ea3f8e31",
   "metadata": {},
   "outputs": [],
   "source": [
    "    from functions import *\n",
    "    collect_tune_and_predict('ANT-USD',n_ahead = 365)"
   ]
  }
 ],
 "metadata": {},
 "nbformat": 4,
 "nbformat_minor": 5
}
