{
 "cells": [
  {
   "cell_type": "markdown",
   "id": "a340e172",
   "metadata": {},
   "source": [
    "# (DAI1-USD): Dai"
   ]
  },
  {
   "cell_type": "code",
   "execution_count": null,
   "id": "2d9f02fa",
   "metadata": {},
   "outputs": [],
   "source": [
    "    from functions import *\n",
    "    collect_tune_and_predict('DAI1-USD',n_ahead = 365)"
   ]
  }
 ],
 "metadata": {},
 "nbformat": 4,
 "nbformat_minor": 5
}
