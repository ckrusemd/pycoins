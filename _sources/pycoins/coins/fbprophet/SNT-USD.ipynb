{
 "cells": [
  {
   "cell_type": "markdown",
   "id": "31c8d1fc",
   "metadata": {},
   "source": [
    "# (SNT-USD): Status"
   ]
  },
  {
   "cell_type": "code",
   "execution_count": null,
   "id": "3d52a3e6",
   "metadata": {},
   "outputs": [],
   "source": [
    "    from functions import *\n",
    "    collect_tune_and_predict('SNT-USD',n_ahead = 365)"
   ]
  }
 ],
 "metadata": {},
 "nbformat": 4,
 "nbformat_minor": 5
}
