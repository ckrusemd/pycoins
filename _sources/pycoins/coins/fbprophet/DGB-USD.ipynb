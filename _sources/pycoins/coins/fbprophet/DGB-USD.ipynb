{
 "cells": [
  {
   "cell_type": "markdown",
   "id": "60a98180",
   "metadata": {},
   "source": [
    "# (DGB-USD): DigiByte"
   ]
  },
  {
   "cell_type": "code",
   "execution_count": null,
   "id": "51aaaf85",
   "metadata": {},
   "outputs": [],
   "source": [
    "    from functions import *\n",
    "    collect_tune_and_predict('DGB-USD',n_ahead = 365)"
   ]
  }
 ],
 "metadata": {},
 "nbformat": 4,
 "nbformat_minor": 5
}
