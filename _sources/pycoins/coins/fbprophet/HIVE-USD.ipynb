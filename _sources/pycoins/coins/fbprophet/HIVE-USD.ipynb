{
 "cells": [
  {
   "cell_type": "markdown",
   "id": "1d76d96a",
   "metadata": {},
   "source": [
    "# (HIVE-USD): Hive"
   ]
  },
  {
   "cell_type": "code",
   "execution_count": null,
   "id": "95db9e21",
   "metadata": {},
   "outputs": [],
   "source": [
    "    from functions import *\n",
    "    collect_tune_and_predict('HIVE-USD',n_ahead = 365)"
   ]
  }
 ],
 "metadata": {},
 "nbformat": 4,
 "nbformat_minor": 5
}
