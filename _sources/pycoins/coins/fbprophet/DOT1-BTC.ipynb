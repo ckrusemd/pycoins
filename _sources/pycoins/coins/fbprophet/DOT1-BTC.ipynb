{
 "cells": [
  {
   "cell_type": "markdown",
   "id": "b76d05ed",
   "metadata": {},
   "source": [
    "# (DOT1-BTC): Polkadot-Bitcoin"
   ]
  },
  {
   "cell_type": "code",
   "execution_count": null,
   "id": "5c5a04a6",
   "metadata": {},
   "outputs": [],
   "source": [
    "    from functions import *\n",
    "    collect_tune_and_predict('DOT1-BTC',n_ahead = 365)"
   ]
  }
 ],
 "metadata": {},
 "nbformat": 4,
 "nbformat_minor": 5
}
