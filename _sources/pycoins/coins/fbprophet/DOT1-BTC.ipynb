{
 "cells": [
  {
   "cell_type": "markdown",
   "id": "4c6e62a6",
   "metadata": {},
   "source": [
    "# (DOT1-BTC): Polkadot-Bitcoin"
   ]
  },
  {
   "cell_type": "code",
   "execution_count": null,
   "id": "32ee99e1",
   "metadata": {},
   "outputs": [],
   "source": [
    "    from functions import *\n",
    "    collect_tune_and_predict('DOT1-BTC',n_ahead = 365)"
   ]
  }
 ],
 "metadata": {},
 "nbformat": 4,
 "nbformat_minor": 5
}
