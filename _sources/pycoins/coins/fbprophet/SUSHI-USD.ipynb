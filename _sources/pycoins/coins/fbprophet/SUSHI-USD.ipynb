{
 "cells": [
  {
   "cell_type": "markdown",
   "id": "f6adb4b0",
   "metadata": {},
   "source": [
    "# (SUSHI-USD): Sushi"
   ]
  },
  {
   "cell_type": "code",
   "execution_count": null,
   "id": "e2a1c29b",
   "metadata": {},
   "outputs": [],
   "source": [
    "    from functions import *\n",
    "    collect_tune_and_predict('SUSHI-USD',n_ahead = 365)"
   ]
  }
 ],
 "metadata": {},
 "nbformat": 4,
 "nbformat_minor": 5
}
