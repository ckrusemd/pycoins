{
 "cells": [
  {
   "cell_type": "markdown",
   "id": "8ef1944c",
   "metadata": {},
   "source": [
    "# (HOT1-USD): Holo"
   ]
  },
  {
   "cell_type": "code",
   "execution_count": null,
   "id": "15957a2a",
   "metadata": {},
   "outputs": [],
   "source": [
    "    from functions import *\n",
    "    collect_tune_and_predict('HOT1-USD',n_ahead = 365)"
   ]
  }
 ],
 "metadata": {},
 "nbformat": 4,
 "nbformat_minor": 5
}
