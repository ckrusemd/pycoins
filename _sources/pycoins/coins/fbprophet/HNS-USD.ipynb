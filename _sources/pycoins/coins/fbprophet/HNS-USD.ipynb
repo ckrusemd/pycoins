{
 "cells": [
  {
   "cell_type": "markdown",
   "id": "31ef55fe",
   "metadata": {},
   "source": [
    "# (HNS-USD): Handshake"
   ]
  },
  {
   "cell_type": "code",
   "execution_count": null,
   "id": "ae76f1d8",
   "metadata": {},
   "outputs": [],
   "source": [
    "    from functions import *\n",
    "    collect_tune_and_predict('HNS-USD',n_ahead = 365)"
   ]
  }
 ],
 "metadata": {},
 "nbformat": 4,
 "nbformat_minor": 5
}
