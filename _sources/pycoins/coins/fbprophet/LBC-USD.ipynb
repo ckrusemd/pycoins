{
 "cells": [
  {
   "cell_type": "markdown",
   "id": "2b3c5033",
   "metadata": {},
   "source": [
    "# (LBC-USD): LBRYCredits"
   ]
  },
  {
   "cell_type": "code",
   "execution_count": null,
   "id": "8fe4950e",
   "metadata": {},
   "outputs": [],
   "source": [
    "    from functions import *\n",
    "    collect_tune_and_predict('LBC-USD',n_ahead = 365)"
   ]
  }
 ],
 "metadata": {},
 "nbformat": 4,
 "nbformat_minor": 5
}
