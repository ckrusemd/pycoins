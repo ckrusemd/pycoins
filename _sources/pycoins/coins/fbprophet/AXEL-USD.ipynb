{
 "cells": [
  {
   "cell_type": "markdown",
   "id": "07b3a881",
   "metadata": {},
   "source": [
    "# (AXEL-USD): AXEL"
   ]
  },
  {
   "cell_type": "code",
   "execution_count": null,
   "id": "f73f85a8",
   "metadata": {},
   "outputs": [],
   "source": [
    "    from functions import *\n",
    "    collect_tune_and_predict('AXEL-USD',n_ahead = 365)"
   ]
  }
 ],
 "metadata": {},
 "nbformat": 4,
 "nbformat_minor": 5
}
