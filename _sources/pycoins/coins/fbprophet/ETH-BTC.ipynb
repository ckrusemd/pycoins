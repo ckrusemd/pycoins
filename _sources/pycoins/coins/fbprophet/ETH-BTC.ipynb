{
 "cells": [
  {
   "cell_type": "markdown",
   "id": "a50bc80d",
   "metadata": {},
   "source": [
    "# (ETH-BTC): Etherum-Bitcoin"
   ]
  },
  {
   "cell_type": "code",
   "execution_count": null,
   "id": "8e541d6d",
   "metadata": {},
   "outputs": [],
   "source": [
    "    from functions import *\n",
    "    collect_tune_and_predict('ETH-BTC',n_ahead = 365)"
   ]
  }
 ],
 "metadata": {},
 "nbformat": 4,
 "nbformat_minor": 5
}
