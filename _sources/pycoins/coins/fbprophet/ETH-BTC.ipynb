{
 "cells": [
  {
   "cell_type": "markdown",
   "id": "bf33944f",
   "metadata": {},
   "source": [
    "# (ETH-BTC): Etherum-Bitcoin"
   ]
  },
  {
   "cell_type": "code",
   "execution_count": null,
   "id": "878fb17d",
   "metadata": {},
   "outputs": [],
   "source": [
    "    from functions import *\n",
    "    collect_tune_and_predict('ETH-BTC',n_ahead = 365)"
   ]
  }
 ],
 "metadata": {},
 "nbformat": 4,
 "nbformat_minor": 5
}
