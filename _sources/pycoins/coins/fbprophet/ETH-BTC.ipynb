{
 "cells": [
  {
   "cell_type": "markdown",
   "id": "1ef07e26",
   "metadata": {},
   "source": [
    "# (ETH-BTC): Etherum-Bitcoin"
   ]
  },
  {
   "cell_type": "code",
   "execution_count": null,
   "id": "36eb84b6",
   "metadata": {},
   "outputs": [],
   "source": [
    "    from functions import *\n",
    "    collect_tune_and_predict('ETH-BTC',n_ahead = 365)"
   ]
  }
 ],
 "metadata": {},
 "nbformat": 4,
 "nbformat_minor": 5
}
