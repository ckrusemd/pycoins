{
 "cells": [
  {
   "cell_type": "markdown",
   "id": "6a70a4b4",
   "metadata": {},
   "source": [
    "# (ETH-BTC): Etherum-Bitcoin"
   ]
  },
  {
   "cell_type": "code",
   "execution_count": null,
   "id": "b0ceef2e",
   "metadata": {},
   "outputs": [],
   "source": [
    "    from functions import *\n",
    "    collect_tune_and_predict('ETH-BTC',n_ahead = 365)"
   ]
  }
 ],
 "metadata": {},
 "nbformat": 4,
 "nbformat_minor": 5
}
