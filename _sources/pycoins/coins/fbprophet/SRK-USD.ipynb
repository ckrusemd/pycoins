{
 "cells": [
  {
   "cell_type": "markdown",
   "id": "76975621",
   "metadata": {},
   "source": [
    "# (SRK-USD): Sparkpoint"
   ]
  },
  {
   "cell_type": "code",
   "execution_count": null,
   "id": "231bf19f",
   "metadata": {},
   "outputs": [],
   "source": [
    "    from functions import *\n",
    "    collect_tune_and_predict('SRK-USD',n_ahead = 365)"
   ]
  }
 ],
 "metadata": {},
 "nbformat": 4,
 "nbformat_minor": 5
}
