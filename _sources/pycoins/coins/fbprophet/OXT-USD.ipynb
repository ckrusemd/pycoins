{
 "cells": [
  {
   "cell_type": "markdown",
   "id": "4d0a6184",
   "metadata": {},
   "source": [
    "# (OXT-USD): Orchid"
   ]
  },
  {
   "cell_type": "code",
   "execution_count": null,
   "id": "82c75081",
   "metadata": {},
   "outputs": [],
   "source": [
    "    from functions import *\n",
    "    collect_tune_and_predict('OXT-USD',n_ahead = 365)"
   ]
  }
 ],
 "metadata": {},
 "nbformat": 4,
 "nbformat_minor": 5
}
