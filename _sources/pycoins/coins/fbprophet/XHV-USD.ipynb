{
 "cells": [
  {
   "cell_type": "markdown",
   "id": "29407ae6",
   "metadata": {},
   "source": [
    "# (XHV-USD): HavenProtocol"
   ]
  },
  {
   "cell_type": "code",
   "execution_count": null,
   "id": "3f730783",
   "metadata": {},
   "outputs": [],
   "source": [
    "    from functions import *\n",
    "    collect_tune_and_predict('XHV-USD',n_ahead = 365)"
   ]
  }
 ],
 "metadata": {},
 "nbformat": 4,
 "nbformat_minor": 5
}
