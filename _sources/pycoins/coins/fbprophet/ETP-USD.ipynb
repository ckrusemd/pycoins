{
 "cells": [
  {
   "cell_type": "markdown",
   "id": "e809e915",
   "metadata": {},
   "source": [
    "# (ETP-USD): MetaverseETP"
   ]
  },
  {
   "cell_type": "code",
   "execution_count": null,
   "id": "1d7b5760",
   "metadata": {},
   "outputs": [],
   "source": [
    "    from functions import *\n",
    "    collect_tune_and_predict('ETP-USD',n_ahead = 365)"
   ]
  }
 ],
 "metadata": {},
 "nbformat": 4,
 "nbformat_minor": 5
}
