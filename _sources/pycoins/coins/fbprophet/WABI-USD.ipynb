{
 "cells": [
  {
   "cell_type": "markdown",
   "id": "edb6ff84",
   "metadata": {},
   "source": [
    "# (WABI-USD): Tael"
   ]
  },
  {
   "cell_type": "code",
   "execution_count": null,
   "id": "1ce9395a",
   "metadata": {},
   "outputs": [],
   "source": [
    "    from functions import *\n",
    "    collect_tune_and_predict('WABI-USD',n_ahead = 365)"
   ]
  }
 ],
 "metadata": {},
 "nbformat": 4,
 "nbformat_minor": 5
}
