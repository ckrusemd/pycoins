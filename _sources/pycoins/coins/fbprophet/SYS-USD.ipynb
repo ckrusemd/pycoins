{
 "cells": [
  {
   "cell_type": "markdown",
   "id": "e08b5813",
   "metadata": {},
   "source": [
    "# (SYS-USD): Syscoin"
   ]
  },
  {
   "cell_type": "code",
   "execution_count": null,
   "id": "11c167e1",
   "metadata": {},
   "outputs": [],
   "source": [
    "    from functions import *\n",
    "    collect_tune_and_predict('SYS-USD',n_ahead = 365)"
   ]
  }
 ],
 "metadata": {},
 "nbformat": 4,
 "nbformat_minor": 5
}
