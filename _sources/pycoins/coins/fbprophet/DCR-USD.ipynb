{
 "cells": [
  {
   "cell_type": "markdown",
   "id": "ccbe787f",
   "metadata": {},
   "source": [
    "# (DCR-USD): Decred"
   ]
  },
  {
   "cell_type": "code",
   "execution_count": null,
   "id": "f435008d",
   "metadata": {},
   "outputs": [],
   "source": [
    "    from functions import *\n",
    "    collect_tune_and_predict('DCR-USD',n_ahead = 365)"
   ]
  }
 ],
 "metadata": {},
 "nbformat": 4,
 "nbformat_minor": 5
}
