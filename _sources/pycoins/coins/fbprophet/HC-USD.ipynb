{
 "cells": [
  {
   "cell_type": "markdown",
   "id": "507f839d",
   "metadata": {},
   "source": [
    "# (HC-USD): HyperCash"
   ]
  },
  {
   "cell_type": "code",
   "execution_count": null,
   "id": "6268171a",
   "metadata": {},
   "outputs": [],
   "source": [
    "    from functions import *\n",
    "    collect_tune_and_predict('HC-USD',n_ahead = 365)"
   ]
  }
 ],
 "metadata": {},
 "nbformat": 4,
 "nbformat_minor": 5
}
