{
 "cells": [
  {
   "cell_type": "markdown",
   "id": "b2875fa4",
   "metadata": {},
   "source": [
    "# (BSV-USD): BitcoinSV"
   ]
  },
  {
   "cell_type": "code",
   "execution_count": null,
   "id": "c572cb2f",
   "metadata": {},
   "outputs": [],
   "source": [
    "    from functions import *\n",
    "    collect_tune_and_predict('BSV-USD',n_ahead = 365)"
   ]
  }
 ],
 "metadata": {},
 "nbformat": 4,
 "nbformat_minor": 5
}
