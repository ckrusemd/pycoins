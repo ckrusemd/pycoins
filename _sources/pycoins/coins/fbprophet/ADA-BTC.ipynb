{
 "cells": [
  {
   "cell_type": "markdown",
   "id": "61266551",
   "metadata": {},
   "source": [
    "# (ADA-BTC): Cardano-Bitcoin"
   ]
  },
  {
   "cell_type": "code",
   "execution_count": null,
   "id": "db930883",
   "metadata": {},
   "outputs": [],
   "source": [
    "    from functions import *\n",
    "    collect_tune_and_predict('ADA-BTC',n_ahead = 365)"
   ]
  }
 ],
 "metadata": {},
 "nbformat": 4,
 "nbformat_minor": 5
}
