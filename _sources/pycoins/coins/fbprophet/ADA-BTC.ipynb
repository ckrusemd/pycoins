{
 "cells": [
  {
   "cell_type": "markdown",
   "id": "bbf09b65",
   "metadata": {},
   "source": [
    "# (ADA-BTC): Cardano-Bitcoin"
   ]
  },
  {
   "cell_type": "code",
   "execution_count": null,
   "id": "9de38a28",
   "metadata": {},
   "outputs": [],
   "source": [
    "    from functions import *\n",
    "    collect_tune_and_predict('ADA-BTC',n_ahead = 365)"
   ]
  }
 ],
 "metadata": {},
 "nbformat": 4,
 "nbformat_minor": 5
}
