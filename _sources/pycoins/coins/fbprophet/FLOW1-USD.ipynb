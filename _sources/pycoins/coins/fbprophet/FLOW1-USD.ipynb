{
 "cells": [
  {
   "cell_type": "markdown",
   "id": "91729dfb",
   "metadata": {},
   "source": [
    "# (FLOW1-USD): FlowDapperLabs"
   ]
  },
  {
   "cell_type": "code",
   "execution_count": null,
   "id": "bdaf6fe6",
   "metadata": {},
   "outputs": [],
   "source": [
    "    from functions import *\n",
    "    collect_tune_and_predict('FLOW1-USD',n_ahead = 365)"
   ]
  }
 ],
 "metadata": {},
 "nbformat": 4,
 "nbformat_minor": 5
}
