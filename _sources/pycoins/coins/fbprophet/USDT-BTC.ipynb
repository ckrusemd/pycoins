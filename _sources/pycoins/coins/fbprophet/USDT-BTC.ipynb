{
 "cells": [
  {
   "cell_type": "markdown",
   "id": "667e23c6",
   "metadata": {},
   "source": [
    "# (USDT-BTC): Tether-Bitcoin"
   ]
  },
  {
   "cell_type": "code",
   "execution_count": null,
   "id": "d6dff490",
   "metadata": {},
   "outputs": [],
   "source": [
    "    from functions import *\n",
    "    collect_tune_and_predict('USDT-BTC',n_ahead = 365)"
   ]
  }
 ],
 "metadata": {},
 "nbformat": 4,
 "nbformat_minor": 5
}
