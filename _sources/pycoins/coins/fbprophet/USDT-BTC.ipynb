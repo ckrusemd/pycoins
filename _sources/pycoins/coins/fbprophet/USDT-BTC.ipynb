{
 "cells": [
  {
   "cell_type": "markdown",
   "id": "d38aebf0",
   "metadata": {},
   "source": [
    "# (USDT-BTC): Tether-Bitcoin"
   ]
  },
  {
   "cell_type": "code",
   "execution_count": null,
   "id": "4fbfa48f",
   "metadata": {},
   "outputs": [],
   "source": [
    "    from functions import *\n",
    "    collect_tune_and_predict('USDT-BTC',n_ahead = 365)"
   ]
  }
 ],
 "metadata": {},
 "nbformat": 4,
 "nbformat_minor": 5
}
