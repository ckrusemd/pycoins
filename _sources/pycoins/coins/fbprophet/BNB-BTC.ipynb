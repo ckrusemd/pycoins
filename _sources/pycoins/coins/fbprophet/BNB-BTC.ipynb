{
 "cells": [
  {
   "cell_type": "markdown",
   "id": "84a82487",
   "metadata": {},
   "source": [
    "# (BNB-BTC): BinanceCoin-Bitcoin"
   ]
  },
  {
   "cell_type": "code",
   "execution_count": null,
   "id": "443217f8",
   "metadata": {},
   "outputs": [],
   "source": [
    "    from functions import *\n",
    "    collect_tune_and_predict('BNB-BTC',n_ahead = 365)"
   ]
  }
 ],
 "metadata": {},
 "nbformat": 4,
 "nbformat_minor": 5
}
