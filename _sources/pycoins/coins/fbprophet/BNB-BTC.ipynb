{
 "cells": [
  {
   "cell_type": "markdown",
   "id": "cd7e9719",
   "metadata": {},
   "source": [
    "# (BNB-BTC): BinanceCoin-Bitcoin"
   ]
  },
  {
   "cell_type": "code",
   "execution_count": null,
   "id": "3ad28582",
   "metadata": {},
   "outputs": [],
   "source": [
    "    from functions import *\n",
    "    collect_tune_and_predict('BNB-BTC',n_ahead = 365)"
   ]
  }
 ],
 "metadata": {},
 "nbformat": 4,
 "nbformat_minor": 5
}
