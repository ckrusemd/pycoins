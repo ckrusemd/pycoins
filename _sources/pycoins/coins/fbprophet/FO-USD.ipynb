{
 "cells": [
  {
   "cell_type": "markdown",
   "id": "81af43c1",
   "metadata": {},
   "source": [
    "# (FO-USD): FIBOS"
   ]
  },
  {
   "cell_type": "code",
   "execution_count": null,
   "id": "c1eb373f",
   "metadata": {},
   "outputs": [],
   "source": [
    "    from functions import *\n",
    "    collect_tune_and_predict('FO-USD',n_ahead = 365)"
   ]
  }
 ],
 "metadata": {},
 "nbformat": 4,
 "nbformat_minor": 5
}
