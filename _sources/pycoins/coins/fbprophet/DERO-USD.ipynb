{
 "cells": [
  {
   "cell_type": "markdown",
   "id": "54c9ce8f",
   "metadata": {},
   "source": [
    "# (DERO-USD): Dero"
   ]
  },
  {
   "cell_type": "code",
   "execution_count": null,
   "id": "859ae3dc",
   "metadata": {},
   "outputs": [],
   "source": [
    "    from functions import *\n",
    "    collect_tune_and_predict('DERO-USD',n_ahead = 365)"
   ]
  }
 ],
 "metadata": {},
 "nbformat": 4,
 "nbformat_minor": 5
}
