{
 "cells": [
  {
   "cell_type": "markdown",
   "id": "402a0b8e",
   "metadata": {},
   "source": [
    "# (BAND-USD): BandProtocol"
   ]
  },
  {
   "cell_type": "code",
   "execution_count": null,
   "id": "2357cb2a",
   "metadata": {},
   "outputs": [],
   "source": [
    "    from functions import *\n",
    "    collect_tune_and_predict('BAND-USD',n_ahead = 365)"
   ]
  }
 ],
 "metadata": {},
 "nbformat": 4,
 "nbformat_minor": 5
}
