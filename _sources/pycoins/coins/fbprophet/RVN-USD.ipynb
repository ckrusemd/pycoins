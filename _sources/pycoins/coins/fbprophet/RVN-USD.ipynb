{
 "cells": [
  {
   "cell_type": "markdown",
   "id": "02c047df",
   "metadata": {},
   "source": [
    "# (RVN-USD): Ravencoin"
   ]
  },
  {
   "cell_type": "code",
   "execution_count": null,
   "id": "794ba527",
   "metadata": {},
   "outputs": [],
   "source": [
    "    from functions import *\n",
    "    collect_tune_and_predict('RVN-USD',n_ahead = 365)"
   ]
  }
 ],
 "metadata": {},
 "nbformat": 4,
 "nbformat_minor": 5
}
