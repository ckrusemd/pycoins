{
 "cells": [
  {
   "cell_type": "markdown",
   "id": "8871f02d",
   "metadata": {},
   "source": [
    "# (CHI-USD): Xaya"
   ]
  },
  {
   "cell_type": "code",
   "execution_count": null,
   "id": "c3afa2a6",
   "metadata": {},
   "outputs": [],
   "source": [
    "    from functions import *\n",
    "    collect_tune_and_predict('CHI-USD',n_ahead = 365)"
   ]
  }
 ],
 "metadata": {},
 "nbformat": 4,
 "nbformat_minor": 5
}
