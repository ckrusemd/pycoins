{
 "cells": [
  {
   "cell_type": "markdown",
   "id": "1ba1967c",
   "metadata": {},
   "source": [
    "# (ETH-USD): Ethereum"
   ]
  },
  {
   "cell_type": "code",
   "execution_count": null,
   "id": "29895956",
   "metadata": {},
   "outputs": [],
   "source": [
    "    from functions import *\n",
    "    collect_tune_and_predict('ETH-USD',n_ahead = 365)"
   ]
  }
 ],
 "metadata": {},
 "nbformat": 4,
 "nbformat_minor": 5
}
