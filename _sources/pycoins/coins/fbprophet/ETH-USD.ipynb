{
 "cells": [
  {
   "cell_type": "markdown",
   "id": "53a74b89",
   "metadata": {},
   "source": [
    "# (ETH-USD): Ethereum"
   ]
  },
  {
   "cell_type": "code",
   "execution_count": null,
   "id": "ff9923b3",
   "metadata": {},
   "outputs": [],
   "source": [
    "    from functions import *\n",
    "    collect_tune_and_predict('ETH-USD',n_ahead = 365)"
   ]
  }
 ],
 "metadata": {},
 "nbformat": 4,
 "nbformat_minor": 5
}
