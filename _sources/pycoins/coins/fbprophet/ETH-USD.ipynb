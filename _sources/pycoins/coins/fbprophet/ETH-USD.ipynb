{
 "cells": [
  {
   "cell_type": "markdown",
   "id": "65b72e19",
   "metadata": {},
   "source": [
    "# (ETH-USD): Ethereum"
   ]
  },
  {
   "cell_type": "code",
   "execution_count": null,
   "id": "3282e098",
   "metadata": {},
   "outputs": [],
   "source": [
    "    from functions import *\n",
    "    collect_tune_and_predict('ETH-USD',n_ahead = 365)"
   ]
  }
 ],
 "metadata": {},
 "nbformat": 4,
 "nbformat_minor": 5
}
