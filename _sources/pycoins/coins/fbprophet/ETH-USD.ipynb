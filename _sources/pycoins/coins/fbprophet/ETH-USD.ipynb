{
 "cells": [
  {
   "cell_type": "markdown",
   "id": "5a1ea123",
   "metadata": {},
   "source": [
    "# (ETH-USD): Ethereum"
   ]
  },
  {
   "cell_type": "code",
   "execution_count": null,
   "id": "5cd78acc",
   "metadata": {},
   "outputs": [],
   "source": [
    "    from functions import *\n",
    "    collect_tune_and_predict('ETH-USD',n_ahead = 365)"
   ]
  }
 ],
 "metadata": {},
 "nbformat": 4,
 "nbformat_minor": 5
}
