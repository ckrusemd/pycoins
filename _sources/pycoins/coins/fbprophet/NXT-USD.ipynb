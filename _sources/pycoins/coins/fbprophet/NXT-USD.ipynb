{
 "cells": [
  {
   "cell_type": "markdown",
   "id": "f376a17c",
   "metadata": {},
   "source": [
    "# (NXT-USD): Nxt"
   ]
  },
  {
   "cell_type": "code",
   "execution_count": null,
   "id": "521ca4f4",
   "metadata": {},
   "outputs": [],
   "source": [
    "    from functions import *\n",
    "    collect_tune_and_predict('NXT-USD',n_ahead = 365)"
   ]
  }
 ],
 "metadata": {},
 "nbformat": 4,
 "nbformat_minor": 5
}
