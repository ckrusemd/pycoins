{
 "cells": [
  {
   "cell_type": "markdown",
   "id": "769d5a4c",
   "metadata": {},
   "source": [
    "# (XMR-USD): Monero"
   ]
  },
  {
   "cell_type": "code",
   "execution_count": null,
   "id": "98cc501e",
   "metadata": {},
   "outputs": [],
   "source": [
    "    from functions import *\n",
    "    collect_tune_and_predict('XMR-USD',n_ahead = 365)"
   ]
  }
 ],
 "metadata": {},
 "nbformat": 4,
 "nbformat_minor": 5
}
