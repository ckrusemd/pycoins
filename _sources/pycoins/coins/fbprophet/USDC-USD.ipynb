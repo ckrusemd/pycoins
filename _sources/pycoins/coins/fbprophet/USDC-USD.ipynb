{
 "cells": [
  {
   "cell_type": "markdown",
   "id": "130480a8",
   "metadata": {},
   "source": [
    "# (USDC-USD): USDCoin"
   ]
  },
  {
   "cell_type": "code",
   "execution_count": null,
   "id": "b9f77aa9",
   "metadata": {},
   "outputs": [],
   "source": [
    "    from functions import *\n",
    "    collect_tune_and_predict('USDC-USD',n_ahead = 365)"
   ]
  }
 ],
 "metadata": {},
 "nbformat": 4,
 "nbformat_minor": 5
}
