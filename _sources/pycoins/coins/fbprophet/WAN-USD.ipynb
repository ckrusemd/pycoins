{
 "cells": [
  {
   "cell_type": "markdown",
   "id": "3a672a0f",
   "metadata": {},
   "source": [
    "# (WAN-USD): Wanchain"
   ]
  },
  {
   "cell_type": "code",
   "execution_count": null,
   "id": "c7089749",
   "metadata": {},
   "outputs": [],
   "source": [
    "    from functions import *\n",
    "    collect_tune_and_predict('WAN-USD',n_ahead = 365)"
   ]
  }
 ],
 "metadata": {},
 "nbformat": 4,
 "nbformat_minor": 5
}
