{
 "cells": [
  {
   "cell_type": "markdown",
   "id": "e8d63b15",
   "metadata": {},
   "source": [
    "# (DMD-USD): Diamond"
   ]
  },
  {
   "cell_type": "code",
   "execution_count": null,
   "id": "c358e71e",
   "metadata": {},
   "outputs": [],
   "source": [
    "    from functions import *\n",
    "    collect_tune_and_predict('DMD-USD',n_ahead = 365)"
   ]
  }
 ],
 "metadata": {},
 "nbformat": 4,
 "nbformat_minor": 5
}
