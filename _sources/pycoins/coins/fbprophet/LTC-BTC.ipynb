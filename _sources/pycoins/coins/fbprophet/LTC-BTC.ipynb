{
 "cells": [
  {
   "cell_type": "markdown",
   "id": "c0aa9047",
   "metadata": {},
   "source": [
    "# (LTC-BTC): Litecoin-Bitcoin"
   ]
  },
  {
   "cell_type": "code",
   "execution_count": null,
   "id": "5ed54398",
   "metadata": {},
   "outputs": [],
   "source": [
    "    from functions import *\n",
    "    collect_tune_and_predict('LTC-BTC',n_ahead = 365)"
   ]
  }
 ],
 "metadata": {},
 "nbformat": 4,
 "nbformat_minor": 5
}
