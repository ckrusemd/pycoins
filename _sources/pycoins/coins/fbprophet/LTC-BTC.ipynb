{
 "cells": [
  {
   "cell_type": "markdown",
   "id": "fbd001c5",
   "metadata": {},
   "source": [
    "# (LTC-BTC): Litecoin-Bitcoin"
   ]
  },
  {
   "cell_type": "code",
   "execution_count": null,
   "id": "58a4565d",
   "metadata": {},
   "outputs": [],
   "source": [
    "    from functions import *\n",
    "    collect_tune_and_predict('LTC-BTC',n_ahead = 365)"
   ]
  }
 ],
 "metadata": {},
 "nbformat": 4,
 "nbformat_minor": 5
}
