{
 "cells": [
  {
   "cell_type": "markdown",
   "id": "23130dda",
   "metadata": {},
   "source": [
    "# (CELR-USD): CelerNetwork"
   ]
  },
  {
   "cell_type": "code",
   "execution_count": null,
   "id": "84312681",
   "metadata": {},
   "outputs": [],
   "source": [
    "    from functions import *\n",
    "    collect_tune_and_predict('CELR-USD',n_ahead = 365)"
   ]
  }
 ],
 "metadata": {},
 "nbformat": 4,
 "nbformat_minor": 5
}
