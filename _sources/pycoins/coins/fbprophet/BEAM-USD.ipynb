{
 "cells": [
  {
   "cell_type": "markdown",
   "id": "1e39e27e",
   "metadata": {},
   "source": [
    "# (BEAM-USD): Beam"
   ]
  },
  {
   "cell_type": "code",
   "execution_count": null,
   "id": "f9207215",
   "metadata": {},
   "outputs": [],
   "source": [
    "    from functions import *\n",
    "    collect_tune_and_predict('BEAM-USD',n_ahead = 365)"
   ]
  }
 ],
 "metadata": {},
 "nbformat": 4,
 "nbformat_minor": 5
}
