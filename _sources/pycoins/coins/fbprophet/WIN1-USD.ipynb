{
 "cells": [
  {
   "cell_type": "markdown",
   "id": "2efe9dc6",
   "metadata": {},
   "source": [
    "# (WIN1-USD): WINk"
   ]
  },
  {
   "cell_type": "code",
   "execution_count": null,
   "id": "882b275d",
   "metadata": {},
   "outputs": [],
   "source": [
    "    from functions import *\n",
    "    collect_tune_and_predict('WIN1-USD',n_ahead = 365)"
   ]
  }
 ],
 "metadata": {},
 "nbformat": 4,
 "nbformat_minor": 5
}
