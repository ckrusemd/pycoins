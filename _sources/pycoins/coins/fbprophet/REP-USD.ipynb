{
 "cells": [
  {
   "cell_type": "markdown",
   "id": "d5ca6318",
   "metadata": {},
   "source": [
    "# (REP-USD): Augur"
   ]
  },
  {
   "cell_type": "code",
   "execution_count": null,
   "id": "5096770c",
   "metadata": {},
   "outputs": [],
   "source": [
    "    from functions import *\n",
    "    collect_tune_and_predict('REP-USD',n_ahead = 365)"
   ]
  }
 ],
 "metadata": {},
 "nbformat": 4,
 "nbformat_minor": 5
}
