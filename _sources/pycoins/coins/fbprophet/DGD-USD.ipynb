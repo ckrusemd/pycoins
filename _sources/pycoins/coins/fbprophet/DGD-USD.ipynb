{
 "cells": [
  {
   "cell_type": "markdown",
   "id": "fcec2dab",
   "metadata": {},
   "source": [
    "# (DGD-USD): DigixDAO"
   ]
  },
  {
   "cell_type": "code",
   "execution_count": null,
   "id": "74e05c92",
   "metadata": {},
   "outputs": [],
   "source": [
    "    from functions import *\n",
    "    collect_tune_and_predict('DGD-USD',n_ahead = 365)"
   ]
  }
 ],
 "metadata": {},
 "nbformat": 4,
 "nbformat_minor": 5
}
