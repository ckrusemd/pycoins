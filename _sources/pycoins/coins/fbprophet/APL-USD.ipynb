{
 "cells": [
  {
   "cell_type": "markdown",
   "id": "d1917bb9",
   "metadata": {},
   "source": [
    "# (APL-USD): ApolloCurrency"
   ]
  },
  {
   "cell_type": "code",
   "execution_count": null,
   "id": "ff85b904",
   "metadata": {},
   "outputs": [],
   "source": [
    "    from functions import *\n",
    "    collect_tune_and_predict('APL-USD',n_ahead = 365)"
   ]
  }
 ],
 "metadata": {},
 "nbformat": 4,
 "nbformat_minor": 5
}
