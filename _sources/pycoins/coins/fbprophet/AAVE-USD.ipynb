{
 "cells": [
  {
   "cell_type": "markdown",
   "id": "f5e41372",
   "metadata": {},
   "source": [
    "# (AAVE-USD): Aave"
   ]
  },
  {
   "cell_type": "code",
   "execution_count": null,
   "id": "8d85aba9",
   "metadata": {},
   "outputs": [],
   "source": [
    "    from functions import *\n",
    "    collect_tune_and_predict('AAVE-USD',n_ahead = 365)"
   ]
  }
 ],
 "metadata": {},
 "nbformat": 4,
 "nbformat_minor": 5
}
