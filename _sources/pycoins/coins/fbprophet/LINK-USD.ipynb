{
 "cells": [
  {
   "cell_type": "markdown",
   "id": "4dcd525a",
   "metadata": {},
   "source": [
    "# (LINK-USD): Chainlink"
   ]
  },
  {
   "cell_type": "code",
   "execution_count": null,
   "id": "e5b8cc06",
   "metadata": {},
   "outputs": [],
   "source": [
    "    from functions import *\n",
    "    collect_tune_and_predict('LINK-USD',n_ahead = 365)"
   ]
  }
 ],
 "metadata": {},
 "nbformat": 4,
 "nbformat_minor": 5
}
