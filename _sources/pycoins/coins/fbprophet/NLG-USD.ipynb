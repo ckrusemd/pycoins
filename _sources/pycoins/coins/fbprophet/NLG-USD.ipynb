{
 "cells": [
  {
   "cell_type": "markdown",
   "id": "2d79bd00",
   "metadata": {},
   "source": [
    "# (NLG-USD): Gulden"
   ]
  },
  {
   "cell_type": "code",
   "execution_count": null,
   "id": "62df8fd6",
   "metadata": {},
   "outputs": [],
   "source": [
    "    from functions import *\n",
    "    collect_tune_and_predict('NLG-USD',n_ahead = 365)"
   ]
  }
 ],
 "metadata": {},
 "nbformat": 4,
 "nbformat_minor": 5
}
