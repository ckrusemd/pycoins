{
 "cells": [
  {
   "cell_type": "markdown",
   "id": "34cda7c8",
   "metadata": {},
   "source": [
    "# (ZIL-USD): Zilliqa"
   ]
  },
  {
   "cell_type": "code",
   "execution_count": null,
   "id": "a8713de4",
   "metadata": {},
   "outputs": [],
   "source": [
    "    from functions import *\n",
    "    collect_tune_and_predict('ZIL-USD',n_ahead = 365)"
   ]
  }
 ],
 "metadata": {},
 "nbformat": 4,
 "nbformat_minor": 5
}
