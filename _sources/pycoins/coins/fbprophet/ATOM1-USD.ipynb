{
 "cells": [
  {
   "cell_type": "markdown",
   "id": "cd4ad48a",
   "metadata": {},
   "source": [
    "# (ATOM1-USD): Cosmos"
   ]
  },
  {
   "cell_type": "code",
   "execution_count": null,
   "id": "73f71fe8",
   "metadata": {},
   "outputs": [],
   "source": [
    "    from functions import *\n",
    "    collect_tune_and_predict('ATOM1-USD',n_ahead = 365)"
   ]
  }
 ],
 "metadata": {},
 "nbformat": 4,
 "nbformat_minor": 5
}
