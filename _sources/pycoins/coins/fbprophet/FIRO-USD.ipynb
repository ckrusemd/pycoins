{
 "cells": [
  {
   "cell_type": "markdown",
   "id": "0679ac4c",
   "metadata": {},
   "source": [
    "# (FIRO-USD): Firo"
   ]
  },
  {
   "cell_type": "code",
   "execution_count": null,
   "id": "b1aa9732",
   "metadata": {},
   "outputs": [],
   "source": [
    "    from functions import *\n",
    "    collect_tune_and_predict('FIRO-USD',n_ahead = 365)"
   ]
  }
 ],
 "metadata": {},
 "nbformat": 4,
 "nbformat_minor": 5
}
