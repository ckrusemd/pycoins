{
 "cells": [
  {
   "cell_type": "markdown",
   "id": "cc27f960",
   "metadata": {},
   "source": [
    "# (ARK-USD): Ark"
   ]
  },
  {
   "cell_type": "code",
   "execution_count": null,
   "id": "70876914",
   "metadata": {},
   "outputs": [],
   "source": [
    "    from functions import *\n",
    "    collect_tune_and_predict('ARK-USD',n_ahead = 365)"
   ]
  }
 ],
 "metadata": {},
 "nbformat": 4,
 "nbformat_minor": 5
}
