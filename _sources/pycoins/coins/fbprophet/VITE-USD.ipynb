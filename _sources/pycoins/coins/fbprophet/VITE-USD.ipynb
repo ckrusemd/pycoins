{
 "cells": [
  {
   "cell_type": "markdown",
   "id": "8acd1f59",
   "metadata": {},
   "source": [
    "# (VITE-USD): VITE"
   ]
  },
  {
   "cell_type": "code",
   "execution_count": null,
   "id": "b513a204",
   "metadata": {},
   "outputs": [],
   "source": [
    "    from functions import *\n",
    "    collect_tune_and_predict('VITE-USD',n_ahead = 365)"
   ]
  }
 ],
 "metadata": {},
 "nbformat": 4,
 "nbformat_minor": 5
}
