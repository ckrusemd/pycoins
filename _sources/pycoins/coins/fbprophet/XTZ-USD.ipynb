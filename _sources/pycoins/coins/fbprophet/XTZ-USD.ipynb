{
 "cells": [
  {
   "cell_type": "markdown",
   "id": "f7367941",
   "metadata": {},
   "source": [
    "# (XTZ-USD): Tezos"
   ]
  },
  {
   "cell_type": "code",
   "execution_count": null,
   "id": "ed515c8c",
   "metadata": {},
   "outputs": [],
   "source": [
    "    from functions import *\n",
    "    collect_tune_and_predict('XTZ-USD',n_ahead = 365)"
   ]
  }
 ],
 "metadata": {},
 "nbformat": 4,
 "nbformat_minor": 5
}
