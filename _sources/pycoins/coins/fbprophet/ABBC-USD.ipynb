{
 "cells": [
  {
   "cell_type": "markdown",
   "id": "06c18948",
   "metadata": {},
   "source": [
    "# (ABBC-USD): ABBCCoin"
   ]
  },
  {
   "cell_type": "code",
   "execution_count": null,
   "id": "ec8986a6",
   "metadata": {},
   "outputs": [],
   "source": [
    "    from functions import *\n",
    "    collect_tune_and_predict('ABBC-USD',n_ahead = 365)"
   ]
  }
 ],
 "metadata": {},
 "nbformat": 4,
 "nbformat_minor": 5
}
