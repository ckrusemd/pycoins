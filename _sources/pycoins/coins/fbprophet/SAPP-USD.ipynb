{
 "cells": [
  {
   "cell_type": "markdown",
   "id": "3e1436ee",
   "metadata": {},
   "source": [
    "# (SAPP-USD): Sapphire"
   ]
  },
  {
   "cell_type": "code",
   "execution_count": null,
   "id": "c1a7ae8b",
   "metadata": {},
   "outputs": [],
   "source": [
    "    from functions import *\n",
    "    collect_tune_and_predict('SAPP-USD',n_ahead = 365)"
   ]
  }
 ],
 "metadata": {},
 "nbformat": 4,
 "nbformat_minor": 5
}
