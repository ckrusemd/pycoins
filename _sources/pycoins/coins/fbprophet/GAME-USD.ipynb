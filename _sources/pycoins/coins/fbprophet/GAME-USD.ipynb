{
 "cells": [
  {
   "cell_type": "markdown",
   "id": "1ffc1cc7",
   "metadata": {},
   "source": [
    "# (GAME-USD): GameCredits"
   ]
  },
  {
   "cell_type": "code",
   "execution_count": null,
   "id": "7d3740fd",
   "metadata": {},
   "outputs": [],
   "source": [
    "    from functions import *\n",
    "    collect_tune_and_predict('GAME-USD',n_ahead = 365)"
   ]
  }
 ],
 "metadata": {},
 "nbformat": 4,
 "nbformat_minor": 5
}
