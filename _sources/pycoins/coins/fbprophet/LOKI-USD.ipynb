{
 "cells": [
  {
   "cell_type": "markdown",
   "id": "8b7a018e",
   "metadata": {},
   "source": [
    "# (LOKI-USD): Loki"
   ]
  },
  {
   "cell_type": "code",
   "execution_count": null,
   "id": "21598918",
   "metadata": {},
   "outputs": [],
   "source": [
    "    from functions import *\n",
    "    collect_tune_and_predict('LOKI-USD',n_ahead = 365)"
   ]
  }
 ],
 "metadata": {},
 "nbformat": 4,
 "nbformat_minor": 5
}
