{
 "cells": [
  {
   "cell_type": "markdown",
   "id": "39e8aec8",
   "metadata": {},
   "source": [
    "# (HBAR-USD): HederaHashgraph"
   ]
  },
  {
   "cell_type": "code",
   "execution_count": null,
   "id": "c8eef0e7",
   "metadata": {},
   "outputs": [],
   "source": [
    "    from functions import *\n",
    "    collect_tune_and_predict('HBAR-USD',n_ahead = 365)"
   ]
  }
 ],
 "metadata": {},
 "nbformat": 4,
 "nbformat_minor": 5
}
