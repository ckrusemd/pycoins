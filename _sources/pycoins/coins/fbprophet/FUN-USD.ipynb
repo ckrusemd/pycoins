{
 "cells": [
  {
   "cell_type": "markdown",
   "id": "9f04349f",
   "metadata": {},
   "source": [
    "# (FUN-USD): FunFair"
   ]
  },
  {
   "cell_type": "code",
   "execution_count": null,
   "id": "08218f7a",
   "metadata": {},
   "outputs": [],
   "source": [
    "    from functions import *\n",
    "    collect_tune_and_predict('FUN-USD',n_ahead = 365)"
   ]
  }
 ],
 "metadata": {},
 "nbformat": 4,
 "nbformat_minor": 5
}
