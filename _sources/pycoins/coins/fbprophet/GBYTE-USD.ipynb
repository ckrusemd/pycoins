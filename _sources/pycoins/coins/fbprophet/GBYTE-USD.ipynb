{
 "cells": [
  {
   "cell_type": "markdown",
   "id": "d1e092e0",
   "metadata": {},
   "source": [
    "# (GBYTE-USD): Obyte"
   ]
  },
  {
   "cell_type": "code",
   "execution_count": null,
   "id": "2b31c82a",
   "metadata": {},
   "outputs": [],
   "source": [
    "    from functions import *\n",
    "    collect_tune_and_predict('GBYTE-USD',n_ahead = 365)"
   ]
  }
 ],
 "metadata": {},
 "nbformat": 4,
 "nbformat_minor": 5
}
