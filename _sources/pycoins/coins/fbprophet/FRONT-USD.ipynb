{
 "cells": [
  {
   "cell_type": "markdown",
   "id": "5d6f6bff",
   "metadata": {},
   "source": [
    "# (FRONT-USD): Frontier"
   ]
  },
  {
   "cell_type": "code",
   "execution_count": null,
   "id": "e31c961f",
   "metadata": {},
   "outputs": [],
   "source": [
    "    from functions import *\n",
    "    collect_tune_and_predict('FRONT-USD',n_ahead = 365)"
   ]
  }
 ],
 "metadata": {},
 "nbformat": 4,
 "nbformat_minor": 5
}
