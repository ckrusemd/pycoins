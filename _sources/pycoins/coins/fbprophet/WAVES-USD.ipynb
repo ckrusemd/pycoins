{
 "cells": [
  {
   "cell_type": "markdown",
   "id": "e18c2eb1",
   "metadata": {},
   "source": [
    "# (WAVES-USD): Waves"
   ]
  },
  {
   "cell_type": "code",
   "execution_count": null,
   "id": "0bab1254",
   "metadata": {},
   "outputs": [],
   "source": [
    "    from functions import *\n",
    "    collect_tune_and_predict('WAVES-USD',n_ahead = 365)"
   ]
  }
 ],
 "metadata": {},
 "nbformat": 4,
 "nbformat_minor": 5
}
