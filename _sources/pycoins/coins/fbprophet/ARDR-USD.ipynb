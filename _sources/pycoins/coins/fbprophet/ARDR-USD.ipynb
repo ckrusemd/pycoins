{
 "cells": [
  {
   "cell_type": "markdown",
   "id": "6206f20d",
   "metadata": {},
   "source": [
    "# (ARDR-USD): Ardor"
   ]
  },
  {
   "cell_type": "code",
   "execution_count": null,
   "id": "c48e69d3",
   "metadata": {},
   "outputs": [],
   "source": [
    "    from functions import *\n",
    "    collect_tune_and_predict('ARDR-USD',n_ahead = 365)"
   ]
  }
 ],
 "metadata": {},
 "nbformat": 4,
 "nbformat_minor": 5
}
