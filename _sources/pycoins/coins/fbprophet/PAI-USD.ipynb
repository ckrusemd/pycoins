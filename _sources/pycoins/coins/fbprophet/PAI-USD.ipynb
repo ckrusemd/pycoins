{
 "cells": [
  {
   "cell_type": "markdown",
   "id": "d9ad6514",
   "metadata": {},
   "source": [
    "# (PAI-USD): ProjectPai"
   ]
  },
  {
   "cell_type": "code",
   "execution_count": null,
   "id": "a21c9582",
   "metadata": {},
   "outputs": [],
   "source": [
    "    from functions import *\n",
    "    collect_tune_and_predict('PAI-USD',n_ahead = 365)"
   ]
  }
 ],
 "metadata": {},
 "nbformat": 4,
 "nbformat_minor": 5
}
