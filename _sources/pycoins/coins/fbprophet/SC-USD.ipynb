{
 "cells": [
  {
   "cell_type": "markdown",
   "id": "435d9b16",
   "metadata": {},
   "source": [
    "# (SC-USD): Siacoin"
   ]
  },
  {
   "cell_type": "code",
   "execution_count": null,
   "id": "dc62d610",
   "metadata": {},
   "outputs": [],
   "source": [
    "    from functions import *\n",
    "    collect_tune_and_predict('SC-USD',n_ahead = 365)"
   ]
  }
 ],
 "metadata": {},
 "nbformat": 4,
 "nbformat_minor": 5
}
