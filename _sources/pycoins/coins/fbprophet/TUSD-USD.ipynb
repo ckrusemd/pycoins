{
 "cells": [
  {
   "cell_type": "markdown",
   "id": "48884cb0",
   "metadata": {},
   "source": [
    "# (TUSD-USD): TrueUSD"
   ]
  },
  {
   "cell_type": "code",
   "execution_count": null,
   "id": "66f61788",
   "metadata": {},
   "outputs": [],
   "source": [
    "    from functions import *\n",
    "    collect_tune_and_predict('TUSD-USD',n_ahead = 365)"
   ]
  }
 ],
 "metadata": {},
 "nbformat": 4,
 "nbformat_minor": 5
}
