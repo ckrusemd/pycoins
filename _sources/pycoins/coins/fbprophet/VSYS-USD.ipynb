{
 "cells": [
  {
   "cell_type": "markdown",
   "id": "3011c990",
   "metadata": {},
   "source": [
    "# (VSYS-USD): VSystems"
   ]
  },
  {
   "cell_type": "code",
   "execution_count": null,
   "id": "bb7312ac",
   "metadata": {},
   "outputs": [],
   "source": [
    "    from functions import *\n",
    "    collect_tune_and_predict('VSYS-USD',n_ahead = 365)"
   ]
  }
 ],
 "metadata": {},
 "nbformat": 4,
 "nbformat_minor": 5
}
