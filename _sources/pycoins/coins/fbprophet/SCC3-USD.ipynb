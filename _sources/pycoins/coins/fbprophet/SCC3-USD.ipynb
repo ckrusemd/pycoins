{
 "cells": [
  {
   "cell_type": "markdown",
   "id": "f3b39ee1",
   "metadata": {},
   "source": [
    "# (SCC3-USD): StakeCubeCoin"
   ]
  },
  {
   "cell_type": "code",
   "execution_count": null,
   "id": "e9946cc4",
   "metadata": {},
   "outputs": [],
   "source": [
    "    from functions import *\n",
    "    collect_tune_and_predict('SCC3-USD',n_ahead = 365)"
   ]
  }
 ],
 "metadata": {},
 "nbformat": 4,
 "nbformat_minor": 5
}
