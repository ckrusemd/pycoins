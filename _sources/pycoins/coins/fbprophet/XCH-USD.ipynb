{
 "cells": [
  {
   "cell_type": "markdown",
   "id": "5ea22ac3",
   "metadata": {},
   "source": [
    "# (XCH-USD): ChiaNetwork"
   ]
  },
  {
   "cell_type": "code",
   "execution_count": null,
   "id": "2fac81bc",
   "metadata": {},
   "outputs": [],
   "source": [
    "    from functions import *\n",
    "    collect_tune_and_predict('XCH-USD',n_ahead = 365)"
   ]
  }
 ],
 "metadata": {},
 "nbformat": 4,
 "nbformat_minor": 5
}
