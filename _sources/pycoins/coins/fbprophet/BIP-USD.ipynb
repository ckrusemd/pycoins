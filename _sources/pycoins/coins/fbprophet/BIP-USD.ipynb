{
 "cells": [
  {
   "cell_type": "markdown",
   "id": "ce7d85c5",
   "metadata": {},
   "source": [
    "# (BIP-USD): MinterNetwork"
   ]
  },
  {
   "cell_type": "code",
   "execution_count": null,
   "id": "a8f55e87",
   "metadata": {},
   "outputs": [],
   "source": [
    "    from functions import *\n",
    "    collect_tune_and_predict('BIP-USD',n_ahead = 365)"
   ]
  }
 ],
 "metadata": {},
 "nbformat": 4,
 "nbformat_minor": 5
}
