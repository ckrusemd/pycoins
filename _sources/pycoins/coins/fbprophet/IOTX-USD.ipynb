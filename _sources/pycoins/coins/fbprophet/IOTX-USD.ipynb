{
 "cells": [
  {
   "cell_type": "markdown",
   "id": "1db1eea3",
   "metadata": {},
   "source": [
    "# (IOTX-USD): IoTeX"
   ]
  },
  {
   "cell_type": "code",
   "execution_count": null,
   "id": "e84b3061",
   "metadata": {},
   "outputs": [],
   "source": [
    "    from functions import *\n",
    "    collect_tune_and_predict('IOTX-USD',n_ahead = 365)"
   ]
  }
 ],
 "metadata": {},
 "nbformat": 4,
 "nbformat_minor": 5
}
