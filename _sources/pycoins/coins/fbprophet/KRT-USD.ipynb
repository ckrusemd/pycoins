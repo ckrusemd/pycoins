{
 "cells": [
  {
   "cell_type": "markdown",
   "id": "588e1277",
   "metadata": {},
   "source": [
    "# (KRT-USD): TerraKRW"
   ]
  },
  {
   "cell_type": "code",
   "execution_count": null,
   "id": "f6b23d8f",
   "metadata": {},
   "outputs": [],
   "source": [
    "    from functions import *\n",
    "    collect_tune_and_predict('KRT-USD',n_ahead = 365)"
   ]
  }
 ],
 "metadata": {},
 "nbformat": 4,
 "nbformat_minor": 5
}
