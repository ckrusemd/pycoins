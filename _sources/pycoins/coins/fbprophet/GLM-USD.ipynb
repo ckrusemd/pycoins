{
 "cells": [
  {
   "cell_type": "markdown",
   "id": "dbbb6f17",
   "metadata": {},
   "source": [
    "# (GLM-USD): Golem"
   ]
  },
  {
   "cell_type": "code",
   "execution_count": null,
   "id": "33e12f7b",
   "metadata": {},
   "outputs": [],
   "source": [
    "    from functions import *\n",
    "    collect_tune_and_predict('GLM-USD',n_ahead = 365)"
   ]
  }
 ],
 "metadata": {},
 "nbformat": 4,
 "nbformat_minor": 5
}
