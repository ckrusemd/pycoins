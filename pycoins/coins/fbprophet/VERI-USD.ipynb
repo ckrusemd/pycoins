{
 "cells": [
  {
   "cell_type": "markdown",
   "id": "23d0b8ed",
   "metadata": {},
   "source": [
    "# (VERI-USD): Veritaseum"
   ]
  },
  {
   "cell_type": "code",
   "execution_count": null,
   "id": "5698a1bd",
   "metadata": {},
   "outputs": [],
   "source": [
    "    from functions import *\n",
    "    collect_tune_and_predict('VERI-USD',n_ahead = 365)"
   ]
  }
 ],
 "metadata": {},
 "nbformat": 4,
 "nbformat_minor": 5
}
