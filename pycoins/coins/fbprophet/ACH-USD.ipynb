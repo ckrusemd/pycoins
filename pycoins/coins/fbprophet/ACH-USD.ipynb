{
 "cells": [
  {
   "cell_type": "markdown",
   "id": "7f0eae69",
   "metadata": {},
   "source": [
    "# (ACH-USD): AlchemyPay"
   ]
  },
  {
   "cell_type": "code",
   "execution_count": null,
   "id": "d475fa03",
   "metadata": {},
   "outputs": [],
   "source": [
    "    from functions import *\n",
    "    collect_tune_and_predict('ACH-USD',n_ahead = 365)"
   ]
  }
 ],
 "metadata": {},
 "nbformat": 4,
 "nbformat_minor": 5
}
