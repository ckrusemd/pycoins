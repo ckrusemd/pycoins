{
 "cells": [
  {
   "cell_type": "markdown",
   "id": "c37a6d87",
   "metadata": {},
   "source": [
    "# (RDD-USD): ReddCoin"
   ]
  },
  {
   "cell_type": "code",
   "execution_count": null,
   "id": "062a6d13",
   "metadata": {},
   "outputs": [],
   "source": [
    "    from functions import *\n",
    "    collect_tune_and_predict('RDD-USD',n_ahead = 365)"
   ]
  }
 ],
 "metadata": {},
 "nbformat": 4,
 "nbformat_minor": 5
}
