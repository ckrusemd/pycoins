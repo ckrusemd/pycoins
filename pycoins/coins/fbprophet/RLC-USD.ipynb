{
 "cells": [
  {
   "cell_type": "markdown",
   "id": "4ea235de",
   "metadata": {},
   "source": [
    "# (RLC-USD): iExecRLC"
   ]
  },
  {
   "cell_type": "code",
   "execution_count": null,
   "id": "b5758038",
   "metadata": {},
   "outputs": [],
   "source": [
    "    from functions import *\n",
    "    collect_tune_and_predict('RLC-USD',n_ahead = 365)"
   ]
  }
 ],
 "metadata": {},
 "nbformat": 4,
 "nbformat_minor": 5
}
