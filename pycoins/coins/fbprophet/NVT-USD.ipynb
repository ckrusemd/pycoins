{
 "cells": [
  {
   "cell_type": "markdown",
   "id": "ae092d05",
   "metadata": {},
   "source": [
    "# (NVT-USD): NerveNetwork"
   ]
  },
  {
   "cell_type": "code",
   "execution_count": null,
   "id": "bb4efc92",
   "metadata": {},
   "outputs": [],
   "source": [
    "    from functions import *\n",
    "    collect_tune_and_predict('NVT-USD',n_ahead = 365)"
   ]
  }
 ],
 "metadata": {},
 "nbformat": 4,
 "nbformat_minor": 5
}
