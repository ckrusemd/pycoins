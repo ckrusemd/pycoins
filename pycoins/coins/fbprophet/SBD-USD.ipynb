{
 "cells": [
  {
   "cell_type": "markdown",
   "id": "fa1bc94f",
   "metadata": {},
   "source": [
    "# (SBD-USD): SteemDollars"
   ]
  },
  {
   "cell_type": "code",
   "execution_count": null,
   "id": "30a85aa4",
   "metadata": {},
   "outputs": [],
   "source": [
    "    from functions import *\n",
    "    collect_tune_and_predict('SBD-USD',n_ahead = 365)"
   ]
  }
 ],
 "metadata": {},
 "nbformat": 4,
 "nbformat_minor": 5
}
