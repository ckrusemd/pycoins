{
 "cells": [
  {
   "cell_type": "markdown",
   "id": "fa04bf91",
   "metadata": {},
   "source": [
    "# (OMI-USD): ECOMI"
   ]
  },
  {
   "cell_type": "code",
   "execution_count": null,
   "id": "95d1b96c",
   "metadata": {},
   "outputs": [],
   "source": [
    "    from functions import *\n",
    "    collect_tune_and_predict('OMI-USD',n_ahead = 365)"
   ]
  }
 ],
 "metadata": {},
 "nbformat": 4,
 "nbformat_minor": 5
}
