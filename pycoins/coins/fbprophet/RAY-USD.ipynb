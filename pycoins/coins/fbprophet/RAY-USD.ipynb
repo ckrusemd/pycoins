{
 "cells": [
  {
   "cell_type": "markdown",
   "id": "d061b576",
   "metadata": {},
   "source": [
    "# (RAY-USD): Raydium"
   ]
  },
  {
   "cell_type": "code",
   "execution_count": null,
   "id": "f573a0a2",
   "metadata": {},
   "outputs": [],
   "source": [
    "    from functions import *\n",
    "    collect_tune_and_predict('RAY-USD',n_ahead = 365)"
   ]
  }
 ],
 "metadata": {},
 "nbformat": 4,
 "nbformat_minor": 5
}
