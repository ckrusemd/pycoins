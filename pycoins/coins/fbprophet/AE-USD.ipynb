{
 "cells": [
  {
   "cell_type": "markdown",
   "id": "792c4e6c",
   "metadata": {},
   "source": [
    "# (AE-USD): Aeternity"
   ]
  },
  {
   "cell_type": "code",
   "execution_count": null,
   "id": "f438302f",
   "metadata": {},
   "outputs": [],
   "source": [
    "    from functions import *\n",
    "    collect_tune_and_predict('AE-USD',n_ahead = 365)"
   ]
  }
 ],
 "metadata": {},
 "nbformat": 4,
 "nbformat_minor": 5
}
