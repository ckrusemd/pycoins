{
 "cells": [
  {
   "cell_type": "markdown",
   "id": "7b81c66f",
   "metadata": {},
   "source": [
    "# (SKL-USD): SKALENetwork"
   ]
  },
  {
   "cell_type": "code",
   "execution_count": null,
   "id": "d6921eea",
   "metadata": {},
   "outputs": [],
   "source": [
    "    from functions import *\n",
    "    collect_tune_and_predict('SKL-USD',n_ahead = 365)"
   ]
  }
 ],
 "metadata": {},
 "nbformat": 4,
 "nbformat_minor": 5
}
