{
 "cells": [
  {
   "cell_type": "markdown",
   "id": "19c09083",
   "metadata": {},
   "source": [
    "# (CMT1-USD): CyberMiles"
   ]
  },
  {
   "cell_type": "code",
   "execution_count": null,
   "id": "ed848739",
   "metadata": {},
   "outputs": [],
   "source": [
    "    from functions import *\n",
    "    collect_tune_and_predict('CMT1-USD',n_ahead = 365)"
   ]
  }
 ],
 "metadata": {},
 "nbformat": 4,
 "nbformat_minor": 5
}
