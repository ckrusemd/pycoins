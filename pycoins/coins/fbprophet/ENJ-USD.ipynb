{
 "cells": [
  {
   "cell_type": "markdown",
   "id": "26496653",
   "metadata": {},
   "source": [
    "# (ENJ-USD): EnjinCoin"
   ]
  },
  {
   "cell_type": "code",
   "execution_count": null,
   "id": "00c88e7d",
   "metadata": {},
   "outputs": [],
   "source": [
    "    from functions import *\n",
    "    collect_tune_and_predict('ENJ-USD',n_ahead = 365)"
   ]
  }
 ],
 "metadata": {},
 "nbformat": 4,
 "nbformat_minor": 5
}
