{
 "cells": [
  {
   "cell_type": "markdown",
   "id": "17c68d83",
   "metadata": {},
   "source": [
    "# (ICX-USD): ICON"
   ]
  },
  {
   "cell_type": "code",
   "execution_count": null,
   "id": "279fc87b",
   "metadata": {},
   "outputs": [],
   "source": [
    "    from functions import *\n",
    "    collect_tune_and_predict('ICX-USD',n_ahead = 365)"
   ]
  }
 ],
 "metadata": {},
 "nbformat": 4,
 "nbformat_minor": 5
}
