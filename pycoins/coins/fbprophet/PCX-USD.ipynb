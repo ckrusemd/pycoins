{
 "cells": [
  {
   "cell_type": "markdown",
   "id": "828c2e77",
   "metadata": {},
   "source": [
    "# (PCX-USD): ChainX"
   ]
  },
  {
   "cell_type": "code",
   "execution_count": null,
   "id": "a9e9ad7e",
   "metadata": {},
   "outputs": [],
   "source": [
    "    from functions import *\n",
    "    collect_tune_and_predict('PCX-USD',n_ahead = 365)"
   ]
  }
 ],
 "metadata": {},
 "nbformat": 4,
 "nbformat_minor": 5
}
