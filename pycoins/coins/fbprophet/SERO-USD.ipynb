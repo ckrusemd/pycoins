{
 "cells": [
  {
   "cell_type": "markdown",
   "id": "455e5e02",
   "metadata": {},
   "source": [
    "# (SERO-USD): SuperZero"
   ]
  },
  {
   "cell_type": "code",
   "execution_count": null,
   "id": "98a87990",
   "metadata": {},
   "outputs": [],
   "source": [
    "    from functions import *\n",
    "    collect_tune_and_predict('SERO-USD',n_ahead = 365)"
   ]
  }
 ],
 "metadata": {},
 "nbformat": 4,
 "nbformat_minor": 5
}
