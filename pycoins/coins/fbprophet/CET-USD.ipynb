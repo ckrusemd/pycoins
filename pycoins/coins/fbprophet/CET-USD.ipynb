{
 "cells": [
  {
   "cell_type": "markdown",
   "id": "86765ec1",
   "metadata": {},
   "source": [
    "# (CET-USD): CoinExToken"
   ]
  },
  {
   "cell_type": "code",
   "execution_count": null,
   "id": "c303797c",
   "metadata": {},
   "outputs": [],
   "source": [
    "    from functions import *\n",
    "    collect_tune_and_predict('CET-USD',n_ahead = 365)"
   ]
  }
 ],
 "metadata": {},
 "nbformat": 4,
 "nbformat_minor": 5
}
