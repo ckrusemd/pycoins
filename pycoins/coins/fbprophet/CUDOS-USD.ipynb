{
 "cells": [
  {
   "cell_type": "markdown",
   "id": "99a78506",
   "metadata": {},
   "source": [
    "# (CUDOS-USD): Cudos"
   ]
  },
  {
   "cell_type": "code",
   "execution_count": null,
   "id": "cc145759",
   "metadata": {},
   "outputs": [],
   "source": [
    "    from functions import *\n",
    "    collect_tune_and_predict('CUDOS-USD',n_ahead = 365)"
   ]
  }
 ],
 "metadata": {},
 "nbformat": 4,
 "nbformat_minor": 5
}
