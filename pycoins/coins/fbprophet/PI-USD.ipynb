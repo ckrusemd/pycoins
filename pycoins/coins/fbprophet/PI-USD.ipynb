{
 "cells": [
  {
   "cell_type": "markdown",
   "id": "d4be5b1a",
   "metadata": {},
   "source": [
    "# (PI-USD): PCHAIN"
   ]
  },
  {
   "cell_type": "code",
   "execution_count": null,
   "id": "46adbf50",
   "metadata": {},
   "outputs": [],
   "source": [
    "    from functions import *\n",
    "    collect_tune_and_predict('PI-USD',n_ahead = 365)"
   ]
  }
 ],
 "metadata": {},
 "nbformat": 4,
 "nbformat_minor": 5
}
