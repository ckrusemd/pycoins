{
 "cells": [
  {
   "cell_type": "markdown",
   "id": "4dd60fa4",
   "metadata": {},
   "source": [
    "# (KAVA-USD): Kava"
   ]
  },
  {
   "cell_type": "code",
   "execution_count": null,
   "id": "35951729",
   "metadata": {},
   "outputs": [],
   "source": [
    "    from functions import *\n",
    "    collect_tune_and_predict('KAVA-USD',n_ahead = 365)"
   ]
  }
 ],
 "metadata": {},
 "nbformat": 4,
 "nbformat_minor": 5
}
