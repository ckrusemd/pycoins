{
 "cells": [
  {
   "cell_type": "markdown",
   "id": "1b4d08cb",
   "metadata": {},
   "source": [
    "# (CAKE-USD): PancakeSwap"
   ]
  },
  {
   "cell_type": "code",
   "execution_count": null,
   "id": "4ebd6061",
   "metadata": {},
   "outputs": [],
   "source": [
    "    from functions import *\n",
    "    collect_tune_and_predict('CAKE-USD',n_ahead = 365)"
   ]
  }
 ],
 "metadata": {},
 "nbformat": 4,
 "nbformat_minor": 5
}
