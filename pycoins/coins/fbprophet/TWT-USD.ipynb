{
 "cells": [
  {
   "cell_type": "markdown",
   "id": "8266d315",
   "metadata": {},
   "source": [
    "# (TWT-USD): TrustWalletToken"
   ]
  },
  {
   "cell_type": "code",
   "execution_count": null,
   "id": "09a73dd3",
   "metadata": {},
   "outputs": [],
   "source": [
    "    from functions import *\n",
    "    collect_tune_and_predict('TWT-USD',n_ahead = 365)"
   ]
  }
 ],
 "metadata": {},
 "nbformat": 4,
 "nbformat_minor": 5
}
