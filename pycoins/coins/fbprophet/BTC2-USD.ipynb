{
 "cells": [
  {
   "cell_type": "markdown",
   "id": "f783255a",
   "metadata": {},
   "source": [
    "# (BTC2-USD): Bitcoin2"
   ]
  },
  {
   "cell_type": "code",
   "execution_count": null,
   "id": "6dc5ceeb",
   "metadata": {},
   "outputs": [],
   "source": [
    "    from functions import *\n",
    "    collect_tune_and_predict('BTC2-USD',n_ahead = 365)"
   ]
  }
 ],
 "metadata": {},
 "nbformat": 4,
 "nbformat_minor": 5
}
