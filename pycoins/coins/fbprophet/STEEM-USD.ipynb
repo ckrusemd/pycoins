{
 "cells": [
  {
   "cell_type": "markdown",
   "id": "9f0259ba",
   "metadata": {},
   "source": [
    "# (STEEM-USD): Steem"
   ]
  },
  {
   "cell_type": "code",
   "execution_count": null,
   "id": "bc816608",
   "metadata": {},
   "outputs": [],
   "source": [
    "    from functions import *\n",
    "    collect_tune_and_predict('STEEM-USD',n_ahead = 365)"
   ]
  }
 ],
 "metadata": {},
 "nbformat": 4,
 "nbformat_minor": 5
}
