{
 "cells": [
  {
   "cell_type": "markdown",
   "id": "4619d641",
   "metadata": {},
   "source": [
    "# (YFI-USD): yearnfinance"
   ]
  },
  {
   "cell_type": "code",
   "execution_count": null,
   "id": "d02cea79",
   "metadata": {},
   "outputs": [],
   "source": [
    "    from functions import *\n",
    "    collect_tune_and_predict('YFI-USD',n_ahead = 365)"
   ]
  }
 ],
 "metadata": {},
 "nbformat": 4,
 "nbformat_minor": 5
}
