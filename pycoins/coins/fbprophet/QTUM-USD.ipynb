{
 "cells": [
  {
   "cell_type": "markdown",
   "id": "68f02519",
   "metadata": {},
   "source": [
    "# (QTUM-USD): Qtum"
   ]
  },
  {
   "cell_type": "code",
   "execution_count": null,
   "id": "dd5f8d5a",
   "metadata": {},
   "outputs": [],
   "source": [
    "    from functions import *\n",
    "    collect_tune_and_predict('QTUM-USD',n_ahead = 365)"
   ]
  }
 ],
 "metadata": {},
 "nbformat": 4,
 "nbformat_minor": 5
}
