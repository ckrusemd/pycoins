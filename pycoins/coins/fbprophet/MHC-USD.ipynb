{
 "cells": [
  {
   "cell_type": "markdown",
   "id": "81b87b43",
   "metadata": {},
   "source": [
    "# (MHC-USD): MetaHash"
   ]
  },
  {
   "cell_type": "code",
   "execution_count": null,
   "id": "48035f0c",
   "metadata": {},
   "outputs": [],
   "source": [
    "    from functions import *\n",
    "    collect_tune_and_predict('MHC-USD',n_ahead = 365)"
   ]
  }
 ],
 "metadata": {},
 "nbformat": 4,
 "nbformat_minor": 5
}
