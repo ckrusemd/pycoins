{
 "cells": [
  {
   "cell_type": "markdown",
   "id": "65bfcebd",
   "metadata": {},
   "source": [
    "# (TT-USD): ThunderToken"
   ]
  },
  {
   "cell_type": "code",
   "execution_count": null,
   "id": "8f93480c",
   "metadata": {},
   "outputs": [],
   "source": [
    "    from functions import *\n",
    "    collect_tune_and_predict('TT-USD',n_ahead = 365)"
   ]
  }
 ],
 "metadata": {},
 "nbformat": 4,
 "nbformat_minor": 5
}
