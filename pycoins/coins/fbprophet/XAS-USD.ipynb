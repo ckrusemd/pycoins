{
 "cells": [
  {
   "cell_type": "markdown",
   "id": "f897fd7a",
   "metadata": {},
   "source": [
    "# (XAS-USD): Asch"
   ]
  },
  {
   "cell_type": "code",
   "execution_count": null,
   "id": "ca7c9ed8",
   "metadata": {},
   "outputs": [],
   "source": [
    "    from functions import *\n",
    "    collect_tune_and_predict('XAS-USD',n_ahead = 365)"
   ]
  }
 ],
 "metadata": {},
 "nbformat": 4,
 "nbformat_minor": 5
}
