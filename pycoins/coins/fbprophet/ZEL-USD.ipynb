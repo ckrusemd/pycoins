{
 "cells": [
  {
   "cell_type": "markdown",
   "id": "7d4d1375",
   "metadata": {},
   "source": [
    "# (ZEL-USD): ZelCash"
   ]
  },
  {
   "cell_type": "code",
   "execution_count": null,
   "id": "54b127b0",
   "metadata": {},
   "outputs": [],
   "source": [
    "    from functions import *\n",
    "    collect_tune_and_predict('ZEL-USD',n_ahead = 365)"
   ]
  }
 ],
 "metadata": {},
 "nbformat": 4,
 "nbformat_minor": 5
}
