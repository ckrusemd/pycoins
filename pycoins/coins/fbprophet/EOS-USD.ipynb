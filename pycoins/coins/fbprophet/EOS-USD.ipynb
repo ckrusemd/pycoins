{
 "cells": [
  {
   "cell_type": "markdown",
   "id": "c68f0761",
   "metadata": {},
   "source": [
    "# (EOS-USD): EOS"
   ]
  },
  {
   "cell_type": "code",
   "execution_count": null,
   "id": "e116442c",
   "metadata": {},
   "outputs": [],
   "source": [
    "    from functions import *\n",
    "    collect_tune_and_predict('EOS-USD',n_ahead = 365)"
   ]
  }
 ],
 "metadata": {},
 "nbformat": 4,
 "nbformat_minor": 5
}
