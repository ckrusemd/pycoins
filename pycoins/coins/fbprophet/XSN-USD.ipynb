{
 "cells": [
  {
   "cell_type": "markdown",
   "id": "95f7fe3d",
   "metadata": {},
   "source": [
    "# (XSN-USD): Stakenet"
   ]
  },
  {
   "cell_type": "code",
   "execution_count": null,
   "id": "18f58841",
   "metadata": {},
   "outputs": [],
   "source": [
    "    from functions import *\n",
    "    collect_tune_and_predict('XSN-USD',n_ahead = 365)"
   ]
  }
 ],
 "metadata": {},
 "nbformat": 4,
 "nbformat_minor": 5
}
