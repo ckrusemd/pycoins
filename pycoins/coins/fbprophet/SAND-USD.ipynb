{
 "cells": [
  {
   "cell_type": "markdown",
   "id": "65d7cd70",
   "metadata": {},
   "source": [
    "# (SAND-USD): TheSandbox"
   ]
  },
  {
   "cell_type": "code",
   "execution_count": null,
   "id": "c815b68a",
   "metadata": {},
   "outputs": [],
   "source": [
    "    from functions import *\n",
    "    collect_tune_and_predict('SAND-USD',n_ahead = 365)"
   ]
  }
 ],
 "metadata": {},
 "nbformat": 4,
 "nbformat_minor": 5
}
