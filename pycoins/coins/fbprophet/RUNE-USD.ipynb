{
 "cells": [
  {
   "cell_type": "markdown",
   "id": "8c48ed6c",
   "metadata": {},
   "source": [
    "# (RUNE-USD): THORChain"
   ]
  },
  {
   "cell_type": "code",
   "execution_count": null,
   "id": "acea1b28",
   "metadata": {},
   "outputs": [],
   "source": [
    "    from functions import *\n",
    "    collect_tune_and_predict('RUNE-USD',n_ahead = 365)"
   ]
  }
 ],
 "metadata": {},
 "nbformat": 4,
 "nbformat_minor": 5
}
