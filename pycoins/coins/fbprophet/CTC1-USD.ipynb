{
 "cells": [
  {
   "cell_type": "markdown",
   "id": "5f77c8b2",
   "metadata": {},
   "source": [
    "# (CTC1-USD): Creditcoin"
   ]
  },
  {
   "cell_type": "code",
   "execution_count": null,
   "id": "d8c2a9be",
   "metadata": {},
   "outputs": [],
   "source": [
    "    from functions import *\n",
    "    collect_tune_and_predict('CTC1-USD',n_ahead = 365)"
   ]
  }
 ],
 "metadata": {},
 "nbformat": 4,
 "nbformat_minor": 5
}
