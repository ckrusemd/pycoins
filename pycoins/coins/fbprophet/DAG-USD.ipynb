{
 "cells": [
  {
   "cell_type": "markdown",
   "id": "1ad7bbbb",
   "metadata": {},
   "source": [
    "# (DAG-USD): Constellation"
   ]
  },
  {
   "cell_type": "code",
   "execution_count": null,
   "id": "64a45a9c",
   "metadata": {},
   "outputs": [],
   "source": [
    "    from functions import *\n",
    "    collect_tune_and_predict('DAG-USD',n_ahead = 365)"
   ]
  }
 ],
 "metadata": {},
 "nbformat": 4,
 "nbformat_minor": 5
}
