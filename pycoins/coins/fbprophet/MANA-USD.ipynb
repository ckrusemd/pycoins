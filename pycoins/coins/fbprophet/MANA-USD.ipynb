{
 "cells": [
  {
   "cell_type": "markdown",
   "id": "8a4e4449",
   "metadata": {},
   "source": [
    "# (MANA-USD): Decentraland"
   ]
  },
  {
   "cell_type": "code",
   "execution_count": null,
   "id": "9c9a5496",
   "metadata": {},
   "outputs": [],
   "source": [
    "    from functions import *\n",
    "    collect_tune_and_predict('MANA-USD',n_ahead = 365)"
   ]
  }
 ],
 "metadata": {},
 "nbformat": 4,
 "nbformat_minor": 5
}
