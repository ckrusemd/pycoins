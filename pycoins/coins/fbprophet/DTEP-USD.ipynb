{
 "cells": [
  {
   "cell_type": "markdown",
   "id": "a6d2a023",
   "metadata": {},
   "source": [
    "# (DTEP-USD): DECOIN"
   ]
  },
  {
   "cell_type": "code",
   "execution_count": null,
   "id": "53fd3395",
   "metadata": {},
   "outputs": [],
   "source": [
    "    from functions import *\n",
    "    collect_tune_and_predict('DTEP-USD',n_ahead = 365)"
   ]
  }
 ],
 "metadata": {},
 "nbformat": 4,
 "nbformat_minor": 5
}
