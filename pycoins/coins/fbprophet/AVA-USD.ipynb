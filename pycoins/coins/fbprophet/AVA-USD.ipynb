{
 "cells": [
  {
   "cell_type": "markdown",
   "id": "76cf586b",
   "metadata": {},
   "source": [
    "# (AVA-USD): Travalacom"
   ]
  },
  {
   "cell_type": "code",
   "execution_count": null,
   "id": "86c19b12",
   "metadata": {},
   "outputs": [],
   "source": [
    "    from functions import *\n",
    "    collect_tune_and_predict('AVA-USD',n_ahead = 365)"
   ]
  }
 ],
 "metadata": {},
 "nbformat": 4,
 "nbformat_minor": 5
}
