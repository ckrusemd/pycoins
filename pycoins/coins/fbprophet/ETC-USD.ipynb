{
 "cells": [
  {
   "cell_type": "markdown",
   "id": "fd7089de",
   "metadata": {},
   "source": [
    "# (ETC-USD): EthereumClassic"
   ]
  },
  {
   "cell_type": "code",
   "execution_count": null,
   "id": "88922cb1",
   "metadata": {},
   "outputs": [],
   "source": [
    "    from functions import *\n",
    "    collect_tune_and_predict('ETC-USD',n_ahead = 365)"
   ]
  }
 ],
 "metadata": {},
 "nbformat": 4,
 "nbformat_minor": 5
}
