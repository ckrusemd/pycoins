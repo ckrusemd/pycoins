{
 "cells": [
  {
   "cell_type": "markdown",
   "id": "07fb7379",
   "metadata": {},
   "source": [
    "# (SHIB-USD): SHIBA INU"
   ]
  },
  {
   "cell_type": "code",
   "execution_count": null,
   "id": "1e9db860",
   "metadata": {},
   "outputs": [],
   "source": [
    "    from functions import *\n",
    "    collect_tune_and_predict('SHIB-USD',n_ahead = 365)"
   ]
  }
 ],
 "metadata": {},
 "nbformat": 4,
 "nbformat_minor": 5
}
