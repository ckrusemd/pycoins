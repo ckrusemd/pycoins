{
 "cells": [
  {
   "cell_type": "markdown",
   "id": "67cece9f",
   "metadata": {},
   "source": [
    "# (VLX-USD): Velas"
   ]
  },
  {
   "cell_type": "code",
   "execution_count": null,
   "id": "56418e98",
   "metadata": {},
   "outputs": [],
   "source": [
    "    from functions import *\n",
    "    collect_tune_and_predict('VLX-USD',n_ahead = 365)"
   ]
  }
 ],
 "metadata": {},
 "nbformat": 4,
 "nbformat_minor": 5
}
