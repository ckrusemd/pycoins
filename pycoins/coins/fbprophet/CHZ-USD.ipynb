{
 "cells": [
  {
   "cell_type": "markdown",
   "id": "8fbcc40f",
   "metadata": {},
   "source": [
    "# (CHZ-USD): Chiliz"
   ]
  },
  {
   "cell_type": "code",
   "execution_count": null,
   "id": "390ef283",
   "metadata": {},
   "outputs": [],
   "source": [
    "    from functions import *\n",
    "    collect_tune_and_predict('CHZ-USD',n_ahead = 365)"
   ]
  }
 ],
 "metadata": {},
 "nbformat": 4,
 "nbformat_minor": 5
}
