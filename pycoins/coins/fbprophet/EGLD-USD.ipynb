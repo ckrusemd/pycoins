{
 "cells": [
  {
   "cell_type": "markdown",
   "id": "d810c7b1",
   "metadata": {},
   "source": [
    "# (EGLD-USD): Elrond"
   ]
  },
  {
   "cell_type": "code",
   "execution_count": null,
   "id": "7f61ee02",
   "metadata": {},
   "outputs": [],
   "source": [
    "    from functions import *\n",
    "    collect_tune_and_predict('EGLD-USD',n_ahead = 365)"
   ]
  }
 ],
 "metadata": {},
 "nbformat": 4,
 "nbformat_minor": 5
}
