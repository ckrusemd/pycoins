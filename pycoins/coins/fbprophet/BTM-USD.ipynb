{
 "cells": [
  {
   "cell_type": "markdown",
   "id": "d8e46a26",
   "metadata": {},
   "source": [
    "# (BTM-USD): Bytom"
   ]
  },
  {
   "cell_type": "code",
   "execution_count": null,
   "id": "04715ce1",
   "metadata": {},
   "outputs": [],
   "source": [
    "    from functions import *\n",
    "    collect_tune_and_predict('BTM-USD',n_ahead = 365)"
   ]
  }
 ],
 "metadata": {},
 "nbformat": 4,
 "nbformat_minor": 5
}
