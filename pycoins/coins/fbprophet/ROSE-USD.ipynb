{
 "cells": [
  {
   "cell_type": "markdown",
   "id": "78172377",
   "metadata": {},
   "source": [
    "# (ROSE-USD): OasisNetwork"
   ]
  },
  {
   "cell_type": "code",
   "execution_count": null,
   "id": "dba4d401",
   "metadata": {},
   "outputs": [],
   "source": [
    "    from functions import *\n",
    "    collect_tune_and_predict('ROSE-USD',n_ahead = 365)"
   ]
  }
 ],
 "metadata": {},
 "nbformat": 4,
 "nbformat_minor": 5
}
