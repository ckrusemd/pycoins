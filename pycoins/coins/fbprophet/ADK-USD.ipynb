{
 "cells": [
  {
   "cell_type": "markdown",
   "id": "9278fcd1",
   "metadata": {},
   "source": [
    "# (ADK-USD): AidosKuneen"
   ]
  },
  {
   "cell_type": "code",
   "execution_count": null,
   "id": "4067d4da",
   "metadata": {},
   "outputs": [],
   "source": [
    "    from functions import *\n",
    "    collect_tune_and_predict('ADK-USD',n_ahead = 365)"
   ]
  }
 ],
 "metadata": {},
 "nbformat": 4,
 "nbformat_minor": 5
}
