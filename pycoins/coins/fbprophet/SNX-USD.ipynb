{
 "cells": [
  {
   "cell_type": "markdown",
   "id": "78313225",
   "metadata": {},
   "source": [
    "# (SNX-USD): SynthetixNetworkToken"
   ]
  },
  {
   "cell_type": "code",
   "execution_count": null,
   "id": "a9a4bf54",
   "metadata": {},
   "outputs": [],
   "source": [
    "    from functions import *\n",
    "    collect_tune_and_predict('SNX-USD',n_ahead = 365)"
   ]
  }
 ],
 "metadata": {},
 "nbformat": 4,
 "nbformat_minor": 5
}
