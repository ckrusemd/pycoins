{
 "cells": [
  {
   "cell_type": "markdown",
   "id": "a801ef22",
   "metadata": {},
   "source": [
    "# (FIO-USD): FIOProtocol"
   ]
  },
  {
   "cell_type": "code",
   "execution_count": null,
   "id": "ba79499c",
   "metadata": {},
   "outputs": [],
   "source": [
    "    from functions import *\n",
    "    collect_tune_and_predict('FIO-USD',n_ahead = 365)"
   ]
  }
 ],
 "metadata": {},
 "nbformat": 4,
 "nbformat_minor": 5
}
