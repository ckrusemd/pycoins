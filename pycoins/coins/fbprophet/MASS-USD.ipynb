{
 "cells": [
  {
   "cell_type": "markdown",
   "id": "8f834149",
   "metadata": {},
   "source": [
    "# (MASS-USD): Massnet"
   ]
  },
  {
   "cell_type": "code",
   "execution_count": null,
   "id": "8935c6aa",
   "metadata": {},
   "outputs": [],
   "source": [
    "    from functions import *\n",
    "    collect_tune_and_predict('MASS-USD',n_ahead = 365)"
   ]
  }
 ],
 "metadata": {},
 "nbformat": 4,
 "nbformat_minor": 5
}
