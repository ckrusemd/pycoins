{
 "cells": [
  {
   "cell_type": "markdown",
   "id": "68f03630",
   "metadata": {},
   "source": [
    "# (RBTC-USD): RSKSmartBitcoin"
   ]
  },
  {
   "cell_type": "code",
   "execution_count": null,
   "id": "2885e0e0",
   "metadata": {},
   "outputs": [],
   "source": [
    "    from functions import *\n",
    "    collect_tune_and_predict('RBTC-USD',n_ahead = 365)"
   ]
  }
 ],
 "metadata": {},
 "nbformat": 4,
 "nbformat_minor": 5
}
