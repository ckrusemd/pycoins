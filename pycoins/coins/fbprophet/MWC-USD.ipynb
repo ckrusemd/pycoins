{
 "cells": [
  {
   "cell_type": "markdown",
   "id": "c5a810b3",
   "metadata": {},
   "source": [
    "# (MWC-USD): MimbleWimbleCoin"
   ]
  },
  {
   "cell_type": "code",
   "execution_count": null,
   "id": "5a0338d1",
   "metadata": {},
   "outputs": [],
   "source": [
    "    from functions import *\n",
    "    collect_tune_and_predict('MWC-USD',n_ahead = 365)"
   ]
  }
 ],
 "metadata": {},
 "nbformat": 4,
 "nbformat_minor": 5
}
