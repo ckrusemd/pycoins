{
 "cells": [
  {
   "cell_type": "markdown",
   "id": "30f77e9e",
   "metadata": {},
   "source": [
    "# (AION-USD): Aion"
   ]
  },
  {
   "cell_type": "code",
   "execution_count": null,
   "id": "2fe854f2",
   "metadata": {},
   "outputs": [],
   "source": [
    "    from functions import *\n",
    "    collect_tune_and_predict('AION-USD',n_ahead = 365)"
   ]
  }
 ],
 "metadata": {},
 "nbformat": 4,
 "nbformat_minor": 5
}
