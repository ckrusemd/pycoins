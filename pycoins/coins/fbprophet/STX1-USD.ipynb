{
 "cells": [
  {
   "cell_type": "markdown",
   "id": "34b13cda",
   "metadata": {},
   "source": [
    "# (STX1-USD): Stacks"
   ]
  },
  {
   "cell_type": "code",
   "execution_count": null,
   "id": "f4770f3c",
   "metadata": {},
   "outputs": [],
   "source": [
    "    from functions import *\n",
    "    collect_tune_and_predict('STX1-USD',n_ahead = 365)"
   ]
  }
 ],
 "metadata": {},
 "nbformat": 4,
 "nbformat_minor": 5
}
