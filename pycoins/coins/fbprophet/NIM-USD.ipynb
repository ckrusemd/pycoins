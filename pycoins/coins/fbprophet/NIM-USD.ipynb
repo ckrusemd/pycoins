{
 "cells": [
  {
   "cell_type": "markdown",
   "id": "c5b2f26b",
   "metadata": {},
   "source": [
    "# (NIM-USD): Nimiq"
   ]
  },
  {
   "cell_type": "code",
   "execution_count": null,
   "id": "25adfb49",
   "metadata": {},
   "outputs": [],
   "source": [
    "    from functions import *\n",
    "    collect_tune_and_predict('NIM-USD',n_ahead = 365)"
   ]
  }
 ],
 "metadata": {},
 "nbformat": 4,
 "nbformat_minor": 5
}
