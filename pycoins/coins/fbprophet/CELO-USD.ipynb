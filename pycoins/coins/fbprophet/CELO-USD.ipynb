{
 "cells": [
  {
   "cell_type": "markdown",
   "id": "620cc156",
   "metadata": {},
   "source": [
    "# (CELO-USD): Celo"
   ]
  },
  {
   "cell_type": "code",
   "execution_count": null,
   "id": "6ecff670",
   "metadata": {},
   "outputs": [],
   "source": [
    "    from functions import *\n",
    "    collect_tune_and_predict('CELO-USD',n_ahead = 365)"
   ]
  }
 ],
 "metadata": {},
 "nbformat": 4,
 "nbformat_minor": 5
}
