{
 "cells": [
  {
   "cell_type": "markdown",
   "id": "15ab825f",
   "metadata": {},
   "source": [
    "# (LRC-USD): Loopring"
   ]
  },
  {
   "cell_type": "code",
   "execution_count": null,
   "id": "82e0cefb",
   "metadata": {},
   "outputs": [],
   "source": [
    "    from functions import *\n",
    "    collect_tune_and_predict('LRC-USD',n_ahead = 365)"
   ]
  }
 ],
 "metadata": {},
 "nbformat": 4,
 "nbformat_minor": 5
}
