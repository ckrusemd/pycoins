{
 "cells": [
  {
   "cell_type": "markdown",
   "id": "fd4ef240",
   "metadata": {},
   "source": [
    "# (CUT-USD): CUTcoin"
   ]
  },
  {
   "cell_type": "code",
   "execution_count": null,
   "id": "2889adb3",
   "metadata": {},
   "outputs": [],
   "source": [
    "    from functions import *\n",
    "    collect_tune_and_predict('CUT-USD',n_ahead = 365)"
   ]
  }
 ],
 "metadata": {},
 "nbformat": 4,
 "nbformat_minor": 5
}
