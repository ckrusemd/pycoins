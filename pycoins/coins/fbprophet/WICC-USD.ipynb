{
 "cells": [
  {
   "cell_type": "markdown",
   "id": "28f794ac",
   "metadata": {},
   "source": [
    "# (WICC-USD): WaykiChain"
   ]
  },
  {
   "cell_type": "code",
   "execution_count": null,
   "id": "83ef186a",
   "metadata": {},
   "outputs": [],
   "source": [
    "    from functions import *\n",
    "    collect_tune_and_predict('WICC-USD',n_ahead = 365)"
   ]
  }
 ],
 "metadata": {},
 "nbformat": 4,
 "nbformat_minor": 5
}
