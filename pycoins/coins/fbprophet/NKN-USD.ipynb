{
 "cells": [
  {
   "cell_type": "markdown",
   "id": "eb137989",
   "metadata": {},
   "source": [
    "# (NKN-USD): NKN"
   ]
  },
  {
   "cell_type": "code",
   "execution_count": null,
   "id": "061ac342",
   "metadata": {},
   "outputs": [],
   "source": [
    "    from functions import *\n",
    "    collect_tune_and_predict('NKN-USD',n_ahead = 365)"
   ]
  }
 ],
 "metadata": {},
 "nbformat": 4,
 "nbformat_minor": 5
}
