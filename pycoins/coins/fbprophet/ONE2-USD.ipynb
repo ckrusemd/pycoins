{
 "cells": [
  {
   "cell_type": "markdown",
   "id": "de078165",
   "metadata": {},
   "source": [
    "# (ONE2-USD): Harmony"
   ]
  },
  {
   "cell_type": "code",
   "execution_count": null,
   "id": "a700348f",
   "metadata": {},
   "outputs": [],
   "source": [
    "    from functions import *\n",
    "    collect_tune_and_predict('ONE2-USD',n_ahead = 365)"
   ]
  }
 ],
 "metadata": {},
 "nbformat": 4,
 "nbformat_minor": 5
}
