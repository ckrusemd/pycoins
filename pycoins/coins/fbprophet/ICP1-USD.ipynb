{
 "cells": [
  {
   "cell_type": "markdown",
   "id": "dcc2420e",
   "metadata": {},
   "source": [
    "# (ICP1-USD): InternetComputer"
   ]
  },
  {
   "cell_type": "code",
   "execution_count": null,
   "id": "72cc8ad8",
   "metadata": {},
   "outputs": [],
   "source": [
    "    from functions import *\n",
    "    collect_tune_and_predict('ICP1-USD',n_ahead = 365)"
   ]
  }
 ],
 "metadata": {},
 "nbformat": 4,
 "nbformat_minor": 5
}
