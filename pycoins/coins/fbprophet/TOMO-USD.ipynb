{
 "cells": [
  {
   "cell_type": "markdown",
   "id": "ebdc6d35",
   "metadata": {},
   "source": [
    "# (TOMO-USD): TomoChain"
   ]
  },
  {
   "cell_type": "code",
   "execution_count": null,
   "id": "5e41c6a4",
   "metadata": {},
   "outputs": [],
   "source": [
    "    from functions import *\n",
    "    collect_tune_and_predict('TOMO-USD',n_ahead = 365)"
   ]
  }
 ],
 "metadata": {},
 "nbformat": 4,
 "nbformat_minor": 5
}
