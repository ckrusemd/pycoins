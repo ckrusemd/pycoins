{
 "cells": [
  {
   "cell_type": "markdown",
   "id": "b0c2b81c",
   "metadata": {},
   "source": [
    "# (IOST-USD): IOST"
   ]
  },
  {
   "cell_type": "code",
   "execution_count": null,
   "id": "67710059",
   "metadata": {},
   "outputs": [],
   "source": [
    "    from functions import *\n",
    "    collect_tune_and_predict('IOST-USD',n_ahead = 365)"
   ]
  }
 ],
 "metadata": {},
 "nbformat": 4,
 "nbformat_minor": 5
}
