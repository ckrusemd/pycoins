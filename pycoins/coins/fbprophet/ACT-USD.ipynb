{
 "cells": [
  {
   "cell_type": "markdown",
   "id": "53b69e0e",
   "metadata": {},
   "source": [
    "# (ACT-USD): Achain"
   ]
  },
  {
   "cell_type": "code",
   "execution_count": null,
   "id": "a927e6a0",
   "metadata": {},
   "outputs": [],
   "source": [
    "    from functions import *\n",
    "    collect_tune_and_predict('ACT-USD',n_ahead = 365)"
   ]
  }
 ],
 "metadata": {},
 "nbformat": 4,
 "nbformat_minor": 5
}
