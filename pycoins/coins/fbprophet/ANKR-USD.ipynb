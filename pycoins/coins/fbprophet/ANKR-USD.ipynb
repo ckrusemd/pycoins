{
 "cells": [
  {
   "cell_type": "markdown",
   "id": "63eaee77",
   "metadata": {},
   "source": [
    "# (ANKR-USD): Ankr"
   ]
  },
  {
   "cell_type": "code",
   "execution_count": null,
   "id": "db54f380",
   "metadata": {},
   "outputs": [],
   "source": [
    "    from functions import *\n",
    "    collect_tune_and_predict('ANKR-USD',n_ahead = 365)"
   ]
  }
 ],
 "metadata": {},
 "nbformat": 4,
 "nbformat_minor": 5
}
