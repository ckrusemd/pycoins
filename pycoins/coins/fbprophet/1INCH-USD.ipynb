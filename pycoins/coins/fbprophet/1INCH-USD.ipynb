{
 "cells": [
  {
   "cell_type": "markdown",
   "id": "070266c2",
   "metadata": {},
   "source": [
    "# (1INCH-USD): 1inch"
   ]
  },
  {
   "cell_type": "code",
   "execution_count": null,
   "id": "316b76d3",
   "metadata": {},
   "outputs": [],
   "source": [
    "    from functions import *\n",
    "    collect_tune_and_predict('1INCH-USD',n_ahead = 365)"
   ]
  }
 ],
 "metadata": {},
 "nbformat": 4,
 "nbformat_minor": 5
}
