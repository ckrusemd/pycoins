{
 "cells": [
  {
   "cell_type": "markdown",
   "id": "4aa9144b",
   "metadata": {},
   "source": [
    "# (THETA-USD): THETA"
   ]
  },
  {
   "cell_type": "code",
   "execution_count": null,
   "id": "ecfe53ec",
   "metadata": {},
   "outputs": [],
   "source": [
    "    from functions import *\n",
    "    collect_tune_and_predict('THETA-USD',n_ahead = 365)"
   ]
  }
 ],
 "metadata": {},
 "nbformat": 4,
 "nbformat_minor": 5
}
