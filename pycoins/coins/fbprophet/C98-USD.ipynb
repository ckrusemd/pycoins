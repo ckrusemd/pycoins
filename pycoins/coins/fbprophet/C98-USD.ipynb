{
 "cells": [
  {
   "cell_type": "markdown",
   "id": "5e978a68",
   "metadata": {},
   "source": [
    "# (C98-USD): Coin98"
   ]
  },
  {
   "cell_type": "code",
   "execution_count": null,
   "id": "24ded38b",
   "metadata": {},
   "outputs": [],
   "source": [
    "    from functions import *\n",
    "    collect_tune_and_predict('C98-USD',n_ahead = 365)"
   ]
  }
 ],
 "metadata": {},
 "nbformat": 4,
 "nbformat_minor": 5
}
