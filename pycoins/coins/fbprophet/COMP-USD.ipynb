{
 "cells": [
  {
   "cell_type": "markdown",
   "id": "e967381c",
   "metadata": {},
   "source": [
    "# (COMP-USD): Compound"
   ]
  },
  {
   "cell_type": "code",
   "execution_count": null,
   "id": "ec708bb0",
   "metadata": {},
   "outputs": [],
   "source": [
    "    from functions import *\n",
    "    collect_tune_and_predict('COMP-USD',n_ahead = 365)"
   ]
  }
 ],
 "metadata": {},
 "nbformat": 4,
 "nbformat_minor": 5
}
