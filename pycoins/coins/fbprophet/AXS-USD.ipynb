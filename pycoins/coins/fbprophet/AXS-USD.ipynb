{
 "cells": [
  {
   "cell_type": "markdown",
   "id": "e3b65b42",
   "metadata": {},
   "source": [
    "# (AXS-USD): AxieInfinity"
   ]
  },
  {
   "cell_type": "code",
   "execution_count": null,
   "id": "ca612e64",
   "metadata": {},
   "outputs": [],
   "source": [
    "    from functions import *\n",
    "    collect_tune_and_predict('AXS-USD',n_ahead = 365)"
   ]
  }
 ],
 "metadata": {},
 "nbformat": 4,
 "nbformat_minor": 5
}
