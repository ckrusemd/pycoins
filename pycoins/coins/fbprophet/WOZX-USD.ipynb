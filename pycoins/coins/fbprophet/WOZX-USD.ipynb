{
 "cells": [
  {
   "cell_type": "markdown",
   "id": "cd5b7d5c",
   "metadata": {},
   "source": [
    "# (WOZX-USD): EFFORCE"
   ]
  },
  {
   "cell_type": "code",
   "execution_count": null,
   "id": "8be51168",
   "metadata": {},
   "outputs": [],
   "source": [
    "    from functions import *\n",
    "    collect_tune_and_predict('WOZX-USD',n_ahead = 365)"
   ]
  }
 ],
 "metadata": {},
 "nbformat": 4,
 "nbformat_minor": 5
}
