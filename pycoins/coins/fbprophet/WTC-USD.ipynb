{
 "cells": [
  {
   "cell_type": "markdown",
   "id": "dbe45016",
   "metadata": {},
   "source": [
    "# (WTC-USD): Waltonchain"
   ]
  },
  {
   "cell_type": "code",
   "execution_count": null,
   "id": "6b70037a",
   "metadata": {},
   "outputs": [],
   "source": [
    "    from functions import *\n",
    "    collect_tune_and_predict('WTC-USD',n_ahead = 365)"
   ]
  }
 ],
 "metadata": {},
 "nbformat": 4,
 "nbformat_minor": 5
}
