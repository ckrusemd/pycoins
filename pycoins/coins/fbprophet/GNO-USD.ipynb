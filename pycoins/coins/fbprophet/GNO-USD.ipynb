{
 "cells": [
  {
   "cell_type": "markdown",
   "id": "efd0dd56",
   "metadata": {},
   "source": [
    "# (GNO-USD): Gnosis"
   ]
  },
  {
   "cell_type": "code",
   "execution_count": null,
   "id": "518c143d",
   "metadata": {},
   "outputs": [],
   "source": [
    "    from functions import *\n",
    "    collect_tune_and_predict('GNO-USD',n_ahead = 365)"
   ]
  }
 ],
 "metadata": {},
 "nbformat": 4,
 "nbformat_minor": 5
}
