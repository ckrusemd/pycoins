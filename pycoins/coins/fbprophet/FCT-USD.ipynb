{
 "cells": [
  {
   "cell_type": "markdown",
   "id": "025f0a42",
   "metadata": {},
   "source": [
    "# (FCT-USD): Factom"
   ]
  },
  {
   "cell_type": "code",
   "execution_count": null,
   "id": "e98f3a1c",
   "metadata": {},
   "outputs": [],
   "source": [
    "    from functions import *\n",
    "    collect_tune_and_predict('FCT-USD',n_ahead = 365)"
   ]
  }
 ],
 "metadata": {},
 "nbformat": 4,
 "nbformat_minor": 5
}
