{
 "cells": [
  {
   "cell_type": "markdown",
   "id": "63958aa5",
   "metadata": {},
   "source": [
    "# (LCC-USD): LitecoinCash"
   ]
  },
  {
   "cell_type": "code",
   "execution_count": null,
   "id": "3d2a06b2",
   "metadata": {},
   "outputs": [],
   "source": [
    "    from functions import *\n",
    "    collect_tune_and_predict('LCC-USD',n_ahead = 365)"
   ]
  }
 ],
 "metadata": {},
 "nbformat": 4,
 "nbformat_minor": 5
}
