{
 "cells": [
  {
   "cell_type": "markdown",
   "id": "bdcb2c64",
   "metadata": {},
   "source": [
    "# (VAL1-USD): Validity"
   ]
  },
  {
   "cell_type": "code",
   "execution_count": null,
   "id": "56e92d22",
   "metadata": {},
   "outputs": [],
   "source": [
    "    from functions import *\n",
    "    collect_tune_and_predict('VAL1-USD',n_ahead = 365)"
   ]
  }
 ],
 "metadata": {},
 "nbformat": 4,
 "nbformat_minor": 5
}
