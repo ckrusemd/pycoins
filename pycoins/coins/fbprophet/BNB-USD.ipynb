{
 "cells": [
  {
   "cell_type": "markdown",
   "id": "78298d0a",
   "metadata": {},
   "source": [
    "# (BNB-USD): BinanceCoin"
   ]
  },
  {
   "cell_type": "code",
   "execution_count": null,
   "id": "ee945b4c",
   "metadata": {},
   "outputs": [],
   "source": [
    "    from functions import *\n",
    "    collect_tune_and_predict('BNB-USD',n_ahead = 365)"
   ]
  }
 ],
 "metadata": {},
 "nbformat": 4,
 "nbformat_minor": 5
}
