{
 "cells": [
  {
   "cell_type": "markdown",
   "id": "8cc1e76c",
   "metadata": {},
   "source": [
    "# (NMR-USD): Numeraire"
   ]
  },
  {
   "cell_type": "code",
   "execution_count": null,
   "id": "b4047997",
   "metadata": {},
   "outputs": [],
   "source": [
    "    from functions import *\n",
    "    collect_tune_and_predict('NMR-USD',n_ahead = 365)"
   ]
  }
 ],
 "metadata": {},
 "nbformat": 4,
 "nbformat_minor": 5
}
