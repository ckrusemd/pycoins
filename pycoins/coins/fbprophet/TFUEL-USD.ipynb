{
 "cells": [
  {
   "cell_type": "markdown",
   "id": "ceffed2d",
   "metadata": {},
   "source": [
    "# (TFUEL-USD): ThetaFuel"
   ]
  },
  {
   "cell_type": "code",
   "execution_count": null,
   "id": "2204186e",
   "metadata": {},
   "outputs": [],
   "source": [
    "    from functions import *\n",
    "    collect_tune_and_predict('TFUEL-USD',n_ahead = 365)"
   ]
  }
 ],
 "metadata": {},
 "nbformat": 4,
 "nbformat_minor": 5
}
