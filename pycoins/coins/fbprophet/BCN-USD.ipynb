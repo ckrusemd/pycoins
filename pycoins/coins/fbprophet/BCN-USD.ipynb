{
 "cells": [
  {
   "cell_type": "markdown",
   "id": "36a1c385",
   "metadata": {},
   "source": [
    "# (BCN-USD): Bytecoin"
   ]
  },
  {
   "cell_type": "code",
   "execution_count": null,
   "id": "95442d9e",
   "metadata": {},
   "outputs": [],
   "source": [
    "    from functions import *\n",
    "    collect_tune_and_predict('BCN-USD',n_ahead = 365)"
   ]
  }
 ],
 "metadata": {},
 "nbformat": 4,
 "nbformat_minor": 5
}
