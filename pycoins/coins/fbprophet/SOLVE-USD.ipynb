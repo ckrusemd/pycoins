{
 "cells": [
  {
   "cell_type": "markdown",
   "id": "c96b415f",
   "metadata": {},
   "source": [
    "# (SOLVE-USD): SOLVE"
   ]
  },
  {
   "cell_type": "code",
   "execution_count": null,
   "id": "4f47d6fe",
   "metadata": {},
   "outputs": [],
   "source": [
    "    from functions import *\n",
    "    collect_tune_and_predict('SOLVE-USD',n_ahead = 365)"
   ]
  }
 ],
 "metadata": {},
 "nbformat": 4,
 "nbformat_minor": 5
}
