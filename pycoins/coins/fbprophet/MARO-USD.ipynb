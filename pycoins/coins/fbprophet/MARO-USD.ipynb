{
 "cells": [
  {
   "cell_type": "markdown",
   "id": "8ee981ce",
   "metadata": {},
   "source": [
    "# (MARO-USD): Maro"
   ]
  },
  {
   "cell_type": "code",
   "execution_count": null,
   "id": "0d986323",
   "metadata": {},
   "outputs": [],
   "source": [
    "    from functions import *\n",
    "    collect_tune_and_predict('MARO-USD',n_ahead = 365)"
   ]
  }
 ],
 "metadata": {},
 "nbformat": 4,
 "nbformat_minor": 5
}
