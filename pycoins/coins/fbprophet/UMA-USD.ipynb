{
 "cells": [
  {
   "cell_type": "markdown",
   "id": "ec555820",
   "metadata": {},
   "source": [
    "# (UMA-USD): UMA"
   ]
  },
  {
   "cell_type": "code",
   "execution_count": null,
   "id": "51f99195",
   "metadata": {},
   "outputs": [],
   "source": [
    "    from functions import *\n",
    "    collect_tune_and_predict('UMA-USD',n_ahead = 365)"
   ]
  }
 ],
 "metadata": {},
 "nbformat": 4,
 "nbformat_minor": 5
}
