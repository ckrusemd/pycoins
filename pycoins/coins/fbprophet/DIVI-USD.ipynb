{
 "cells": [
  {
   "cell_type": "markdown",
   "id": "caff5317",
   "metadata": {},
   "source": [
    "# (DIVI-USD): Divi"
   ]
  },
  {
   "cell_type": "code",
   "execution_count": null,
   "id": "5d2d7abf",
   "metadata": {},
   "outputs": [],
   "source": [
    "    from functions import *\n",
    "    collect_tune_and_predict('DIVI-USD',n_ahead = 365)"
   ]
  }
 ],
 "metadata": {},
 "nbformat": 4,
 "nbformat_minor": 5
}
