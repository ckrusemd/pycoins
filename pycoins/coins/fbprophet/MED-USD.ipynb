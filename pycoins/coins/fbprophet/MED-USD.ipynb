{
 "cells": [
  {
   "cell_type": "markdown",
   "id": "76fbdd3e",
   "metadata": {},
   "source": [
    "# (MED-USD): MediBlocQRC20"
   ]
  },
  {
   "cell_type": "code",
   "execution_count": null,
   "id": "abd847f2",
   "metadata": {},
   "outputs": [],
   "source": [
    "    from functions import *\n",
    "    collect_tune_and_predict('MED-USD',n_ahead = 365)"
   ]
  }
 ],
 "metadata": {},
 "nbformat": 4,
 "nbformat_minor": 5
}
