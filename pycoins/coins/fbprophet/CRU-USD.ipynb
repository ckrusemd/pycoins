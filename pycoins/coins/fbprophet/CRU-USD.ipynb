{
 "cells": [
  {
   "cell_type": "markdown",
   "id": "dc7d2c29",
   "metadata": {},
   "source": [
    "# (CRU-USD): Crust"
   ]
  },
  {
   "cell_type": "code",
   "execution_count": null,
   "id": "9a78e166",
   "metadata": {},
   "outputs": [],
   "source": [
    "    from functions import *\n",
    "    collect_tune_and_predict('CRU-USD',n_ahead = 365)"
   ]
  }
 ],
 "metadata": {},
 "nbformat": 4,
 "nbformat_minor": 5
}
