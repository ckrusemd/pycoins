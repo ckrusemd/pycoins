{
 "cells": [
  {
   "cell_type": "markdown",
   "id": "55d26aef",
   "metadata": {},
   "source": [
    "# (XLM-USD): Stellar"
   ]
  },
  {
   "cell_type": "code",
   "execution_count": null,
   "id": "0d1c9eb7",
   "metadata": {},
   "outputs": [],
   "source": [
    "    from functions import *\n",
    "    collect_tune_and_predict('XLM-USD',n_ahead = 365)"
   ]
  }
 ],
 "metadata": {},
 "nbformat": 4,
 "nbformat_minor": 5
}
