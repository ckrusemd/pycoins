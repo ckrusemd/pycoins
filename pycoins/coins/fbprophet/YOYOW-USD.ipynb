{
 "cells": [
  {
   "cell_type": "markdown",
   "id": "b6ec0df2",
   "metadata": {},
   "source": [
    "# (YOYOW-USD): YOYOW"
   ]
  },
  {
   "cell_type": "code",
   "execution_count": null,
   "id": "b9e74d86",
   "metadata": {},
   "outputs": [],
   "source": [
    "    from functions import *\n",
    "    collect_tune_and_predict('YOYOW-USD',n_ahead = 365)"
   ]
  }
 ],
 "metadata": {},
 "nbformat": 4,
 "nbformat_minor": 5
}
