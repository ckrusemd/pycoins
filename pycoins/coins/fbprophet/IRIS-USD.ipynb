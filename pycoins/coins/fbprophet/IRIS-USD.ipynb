{
 "cells": [
  {
   "cell_type": "markdown",
   "id": "36281ebc",
   "metadata": {},
   "source": [
    "# (IRIS-USD): IRISnet"
   ]
  },
  {
   "cell_type": "code",
   "execution_count": null,
   "id": "cedf715e",
   "metadata": {},
   "outputs": [],
   "source": [
    "    from functions import *\n",
    "    collect_tune_and_predict('IRIS-USD',n_ahead = 365)"
   ]
  }
 ],
 "metadata": {},
 "nbformat": 4,
 "nbformat_minor": 5
}
