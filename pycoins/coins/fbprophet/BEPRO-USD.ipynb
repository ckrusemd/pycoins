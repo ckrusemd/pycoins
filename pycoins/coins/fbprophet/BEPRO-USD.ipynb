{
 "cells": [
  {
   "cell_type": "markdown",
   "id": "223635ed",
   "metadata": {},
   "source": [
    "# (BEPRO-USD): BetProtocol"
   ]
  },
  {
   "cell_type": "code",
   "execution_count": null,
   "id": "40ad2a8b",
   "metadata": {},
   "outputs": [],
   "source": [
    "    from functions import *\n",
    "    collect_tune_and_predict('BEPRO-USD',n_ahead = 365)"
   ]
  }
 ],
 "metadata": {},
 "nbformat": 4,
 "nbformat_minor": 5
}
