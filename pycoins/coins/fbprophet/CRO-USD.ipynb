{
 "cells": [
  {
   "cell_type": "markdown",
   "id": "c46fe91c",
   "metadata": {},
   "source": [
    "# (CRO-USD): CryptocomCoin"
   ]
  },
  {
   "cell_type": "code",
   "execution_count": null,
   "id": "66dd0fa0",
   "metadata": {},
   "outputs": [],
   "source": [
    "    from functions import *\n",
    "    collect_tune_and_predict('CRO-USD',n_ahead = 365)"
   ]
  }
 ],
 "metadata": {},
 "nbformat": 4,
 "nbformat_minor": 5
}
