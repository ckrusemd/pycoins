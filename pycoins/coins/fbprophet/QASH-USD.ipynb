{
 "cells": [
  {
   "cell_type": "markdown",
   "id": "6e1a299a",
   "metadata": {},
   "source": [
    "# (QASH-USD): QASH"
   ]
  },
  {
   "cell_type": "code",
   "execution_count": null,
   "id": "795c52d2",
   "metadata": {},
   "outputs": [],
   "source": [
    "    from functions import *\n",
    "    collect_tune_and_predict('QASH-USD',n_ahead = 365)"
   ]
  }
 ],
 "metadata": {},
 "nbformat": 4,
 "nbformat_minor": 5
}
