{
 "cells": [
  {
   "cell_type": "markdown",
   "id": "d2441f57",
   "metadata": {},
   "source": [
    "# (NRG-USD): Energi"
   ]
  },
  {
   "cell_type": "code",
   "execution_count": null,
   "id": "20209ced",
   "metadata": {},
   "outputs": [],
   "source": [
    "    from functions import *\n",
    "    collect_tune_and_predict('NRG-USD',n_ahead = 365)"
   ]
  }
 ],
 "metadata": {},
 "nbformat": 4,
 "nbformat_minor": 5
}
